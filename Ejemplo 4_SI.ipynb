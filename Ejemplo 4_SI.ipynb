{
  "cells": [
    {
      "cell_type": "markdown",
      "id": "c21e5530",
      "metadata": {
        "id": "c21e5530"
      },
      "source": [
        "***Valdez Garcia Karla Anali***\n",
        "\n",
        "Simulación I\n",
        "\n",
        "Ejemplo 4\n",
        "\n",
        "07/06/2024"
      ]
    },
    {
      "cell_type": "markdown",
      "source": [
        "# Ejemplo: Flecha y cojinete"
      ],
      "metadata": {
        "id": "alwfnkmWf1oV"
      },
      "id": "alwfnkmWf1oV"
    },
    {
      "cell_type": "markdown",
      "id": "61f9bd36",
      "metadata": {
        "id": "61f9bd36"
      },
      "source": [
        "Una flecha será embonada en un cojinete como se muestra a continuación\n",
        "\n",
        "<img src=\"https://github.com/Medetl/Simulacion/blob/main/Unidad%20II/cojinete.png?raw=1\">"
      ]
    },
    {
      "cell_type": "markdown",
      "id": "5f658ca1",
      "metadata": {
        "id": "5f658ca1"
      },
      "source": [
        "Si $x_1$ sigue una distribución normal con media $1.5$ y varianza $0.0016$, y $x_2$ esta misma distribución con media $1.48$ y varianza $0.0009$, determine:\n",
        "\n",
        "a) La probabilidad de que haya interferencia.\n",
        "\n",
        "b) El número de veces que es necesario simular el experimento, si se quiere que la probabilidad de interferencia estimada difiera de su valor verdadero en menos de $0.01$, con un nivel de seguridad del $95\\%.$"
      ]
    },
    {
      "cell_type": "markdown",
      "id": "fac00420",
      "metadata": {
        "id": "fac00420"
      },
      "source": [
        "Vamos a resolver este problema, procurando seguir la metodología vista en el curso."
      ]
    },
    {
      "cell_type": "markdown",
      "id": "ccd32164",
      "metadata": {
        "id": "ccd32164"
      },
      "source": [
        "### 1. Identifique las variables\n",
        "\n",
        "Tenemos dos: $x_1$ y $x_2$."
      ]
    },
    {
      "cell_type": "markdown",
      "id": "ae8735e5",
      "metadata": {
        "id": "ae8735e5"
      },
      "source": [
        "### 2 y 3. Determine la distribución de probabilidad y modele las variables aleatorias\n",
        "\n",
        "En el planteamiento ya se especifica que $x_1 \\sim N(1.5, 0.04)$ y que $x_1 \\sim N(1.48, 0.03)$."
      ]
    },
    {
      "cell_type": "markdown",
      "id": "b1b57a13",
      "metadata": {
        "id": "b1b57a13"
      },
      "source": [
        "### 4. Defina el modelo del sistema y los objetivos de la simulación\n",
        "\n",
        "La diferencia $x_1 - x_2$ modela adecuadamente el sistema.\n",
        "\n",
        "Si $x_2 - x_1 > 0$ el diametro de la flecha es más grande que el espacio en el cojinte y, por tanto, hay interferencia. De lo contrario, las piezas embonan sin problema.\n",
        "\n",
        "Objetivo: determinar la frecuencia con que esto ocurre, lo cual nos da una esrimación de la probabilidad de interefrencia.\n",
        "\n",
        "Una forma de implementarlo es mediante el siguiente código."
      ]
    },
    {
      "cell_type": "code",
      "execution_count": 56,
      "id": "191b1e9b",
      "metadata": {
        "id": "191b1e9b"
      },
      "outputs": [],
      "source": [
        "import numpy as np\n",
        "import random\n",
        "import matplotlib.pyplot as plt\n",
        "from scipy.stats import norm"
      ]
    },
    {
      "cell_type": "code",
      "execution_count": 57,
      "id": "e64c27d2",
      "metadata": {
        "id": "e64c27d2"
      },
      "outputs": [],
      "source": [
        "def interferencia():                #Esta función devuelve el valor 1 si hay interferencia o 0 si no la hay.\n",
        "    interf=0\n",
        "    x_1 = random.gauss(1.50,0.04)    #La funcion gauss genera un número que sigue una distribucion normal con\n",
        "    x_2 = random.gauss(1.48,0.03)   # la media y la desvicion estandar especificados.\n",
        "    if 0.0 < x_2 - x_1:\n",
        "        interf += 1\n",
        "    return interf"
      ]
    },
    {
      "cell_type": "code",
      "execution_count": 58,
      "id": "ebe51777",
      "metadata": {
        "colab": {
          "base_uri": "https://localhost:8080/"
        },
        "id": "ebe51777",
        "outputId": "c6885d69-ae6d-4c1e-d96c-ef28fe1ed23f"
      },
      "outputs": [
        {
          "output_type": "execute_result",
          "data": {
            "text/plain": [
              "0"
            ]
          },
          "metadata": {},
          "execution_count": 58
        }
      ],
      "source": [
        "interferencia()"
      ]
    },
    {
      "cell_type": "markdown",
      "id": "d6186dac",
      "metadata": {
        "id": "d6186dac"
      },
      "source": [
        "### 5. Diseñe el experimento\n",
        "\n",
        "Para estimar la probabilidad de interferencia, ejecutamos $n$ veces la función anterior y calculamos de manera acumulativa\n",
        "la probabilidad de interferencia."
      ]
    },
    {
      "cell_type": "code",
      "execution_count": 59,
      "id": "f9a766a5",
      "metadata": {
        "id": "f9a766a5"
      },
      "outputs": [],
      "source": [
        "def prob_inter(n):\n",
        "    prob = []                       # Esta funcion devuelve esta lista \"prob\", con los valores de la probabilidad\n",
        "    inter = 0                       # estimada al contar las veces que hay interferencia y dividir entre las veces que\n",
        "    for i in range(n):              # se ha reptido la observacion mientras aumenta el numero de iteraciones.\n",
        "        inter += interferencia()\n",
        "        prob.append(inter/(i+1))\n",
        "    return prob"
      ]
    },
    {
      "cell_type": "code",
      "execution_count": 60,
      "id": "8099a245",
      "metadata": {
        "id": "8099a245"
      },
      "outputs": [],
      "source": [
        "X = prob_inter(800)                # Asignamos valores a n y realizamos el experimento"
      ]
    },
    {
      "cell_type": "code",
      "execution_count": 61,
      "id": "c5a5a3c2",
      "metadata": {
        "colab": {
          "base_uri": "https://localhost:8080/",
          "height": 447
        },
        "id": "c5a5a3c2",
        "outputId": "0a516eb9-dbfc-4f95-c26f-5adc5e738661"
      },
      "outputs": [
        {
          "output_type": "execute_result",
          "data": {
            "text/plain": [
              "[<matplotlib.lines.Line2D at 0x7b1ca9b85480>]"
            ]
          },
          "metadata": {},
          "execution_count": 61
        },
        {
          "output_type": "display_data",
          "data": {
            "text/plain": [
              "<Figure size 640x480 with 1 Axes>"
            ],
            "image/png": "[encoded data removed]"
          },
          "metadata": {}
        }
      ],
      "source": [
        "plt.plot(X)                         # La gráfica muestra que la convergencia está garantizada con 500 iteraciones\n",
        "                                    # Sin embargo, diferentes ejecuciones darán resultados distintos"
      ]
    },
    {
      "cell_type": "code",
      "execution_count": 62,
      "id": "4ac4c689",
      "metadata": {
        "colab": {
          "base_uri": "https://localhost:8080/"
        },
        "id": "4ac4c689",
        "outputId": "1027f2e0-4710-41bc-e040-d0f00c371a1d"
      },
      "outputs": [
        {
          "output_type": "stream",
          "name": "stdout",
          "text": [
            "0.3452889391805824 0.02358141526464961\n"
          ]
        }
      ],
      "source": [
        "print(np.mean(X), np.std(X))"
      ]
    },
    {
      "cell_type": "markdown",
      "id": "34727279",
      "metadata": {
        "id": "34727279"
      },
      "source": [
        "### 6. Repita el experimento $n$ veces\n",
        "\n",
        "Una forma de hacerlo es mediante el siguiente codigo."
      ]
    },
    {
      "cell_type": "code",
      "execution_count": 63,
      "id": "908f1884",
      "metadata": {
        "id": "908f1884"
      },
      "outputs": [],
      "source": [
        "def modelo(n):\n",
        "    lista=[]\n",
        "    for i in range(n):\n",
        "        s = prob_inter(500)\n",
        "        lista.append(np.mean(s))\n",
        "    return lista"
      ]
    },
    {
      "cell_type": "code",
      "execution_count": 64,
      "id": "34868564",
      "metadata": {
        "id": "34868564"
      },
      "outputs": [],
      "source": [
        "Y=modelo(120)"
      ]
    },
    {
      "cell_type": "code",
      "execution_count": 65,
      "id": "8a95845e",
      "metadata": {
        "colab": {
          "base_uri": "https://localhost:8080/",
          "height": 430
        },
        "id": "8a95845e",
        "outputId": "7af13796-4358-424a-8196-749849b363c3"
      },
      "outputs": [
        {
          "output_type": "display_data",
          "data": {
            "text/plain": [
              "<Figure size 640x480 with 1 Axes>"
            ],
            "image/png": "[encoded data removed]"
          },
          "metadata": {}
        }
      ],
      "source": [
        "plt.hist(Y)\n",
        "plt.show()"
      ]
    },
    {
      "cell_type": "code",
      "execution_count": 66,
      "id": "e892a16c",
      "metadata": {
        "colab": {
          "base_uri": "https://localhost:8080/"
        },
        "id": "e892a16c",
        "outputId": "cc703fc0-df90-4037-a913-2e41915cd196"
      },
      "outputs": [
        {
          "output_type": "stream",
          "name": "stdout",
          "text": [
            "0.3463465599928457 0.025124376425466742\n"
          ]
        }
      ],
      "source": [
        "print(np.mean(Y), np.std(Y))"
      ]
    },
    {
      "cell_type": "markdown",
      "id": "e5dc2362",
      "metadata": {
        "id": "e5dc2362"
      },
      "source": [
        "### Paso 7. Hallamos el intervalo de confianza.\n",
        "\n",
        "$$\\bar{x}-z_{\\alpha/2} \\cdot \\frac{s}{\\sqrt{n}} < \\mu < \\bar{x}+z_{\\alpha/2}\\cdot \\frac{s}{\\sqrt{n}}$$"
      ]
    },
    {
      "cell_type": "code",
      "execution_count": 67,
      "id": "23d0b48e",
      "metadata": {
        "colab": {
          "base_uri": "https://localhost:8080/"
        },
        "id": "23d0b48e",
        "outputId": "f2627e9d-83ca-4102-b52d-70f59855d083"
      },
      "outputs": [
        {
          "output_type": "execute_result",
          "data": {
            "text/plain": [
              "0.3463465599928457"
            ]
          },
          "metadata": {},
          "execution_count": 67
        }
      ],
      "source": [
        "np.mean(Y)"
      ]
    },
    {
      "cell_type": "code",
      "execution_count": 68,
      "id": "b29c74e6",
      "metadata": {
        "colab": {
          "base_uri": "https://localhost:8080/"
        },
        "id": "b29c74e6",
        "outputId": "6e596f26-d4a6-4370-b7e6-7507627d1a10"
      },
      "outputs": [
        {
          "output_type": "execute_result",
          "data": {
            "text/plain": [
              "(0.33938243815098157, 0.3533106818347098)"
            ]
          },
          "metadata": {},
          "execution_count": 68
        }
      ],
      "source": [
        "np.mean(Y) - 1.96*np.std(Y)/np.sqrt(50), np.mean(Y) + 1.96*np.std(Y)/np.sqrt(50)"
      ]
    },
    {
      "cell_type": "markdown",
      "id": "112c0954",
      "metadata": {
        "id": "112c0954"
      },
      "source": [
        "### Para determinar el número de simulaciones"
      ]
    },
    {
      "cell_type": "markdown",
      "id": "0a1a63e7",
      "metadata": {
        "id": "0a1a63e7"
      },
      "source": [
        "$$ N > \\Bigg( \\frac{2 \\sigma z_{\\alpha/2}}{\\epsilon} \\Bigg) ^2 $$"
      ]
    },
    {
      "cell_type": "code",
      "execution_count": 69,
      "id": "1478d745",
      "metadata": {
        "id": "1478d745"
      },
      "outputs": [],
      "source": [
        "N = (2*np.std(X)*1.96/0.001)**2"
      ]
    },
    {
      "cell_type": "code",
      "execution_count": 70,
      "id": "fa6ae0ce",
      "metadata": {
        "colab": {
          "base_uri": "https://localhost:8080/"
        },
        "id": "fa6ae0ce",
        "outputId": "7c3ec792-d1a4-49a8-c7a5-a7657389a836"
      },
      "outputs": [
        {
          "output_type": "stream",
          "name": "stdout",
          "text": [
            "8544.996052909584\n"
          ]
        }
      ],
      "source": [
        "print(N)"
      ]
    },
    {
      "cell_type": "markdown",
      "id": "a6d1c695",
      "metadata": {
        "id": "a6d1c695"
      },
      "source": [
        "### Podemos comparar con la sulución analítica del problema.\n",
        "\n",
        "Para ello usamos la teoría sobre la suma de variables con distribución normal."
      ]
    },
    {
      "cell_type": "code",
      "execution_count": 71,
      "id": "7284bee0",
      "metadata": {
        "colab": {
          "base_uri": "https://localhost:8080/"
        },
        "id": "7284bee0",
        "outputId": "3bc73524-a84c-4bb9-8659-0ba3167252bf"
      },
      "outputs": [
        {
          "output_type": "execute_result",
          "data": {
            "text/plain": [
              "0.3445782583896758"
            ]
          },
          "metadata": {},
          "execution_count": 71
        }
      ],
      "source": [
        "norm.cdf(-0.04, -0.02, 0.05)"
      ]
    },
    {
      "cell_type": "code",
      "execution_count": 72,
      "id": "a1a842a2",
      "metadata": {
        "colab": {
          "base_uri": "https://localhost:8080/"
        },
        "id": "a1a842a2",
        "outputId": "00e185f9-b364-4b69-a45a-4fa33484eab7"
      },
      "outputs": [
        {
          "output_type": "execute_result",
          "data": {
            "text/plain": [
              "-0.001768301603169875"
            ]
          },
          "metadata": {},
          "execution_count": 72
        }
      ],
      "source": [
        "norm.cdf(-0.04, -0.02, 0.05)-np.mean(Y)"
      ]
    },
    {
      "cell_type": "markdown",
      "source": [
        "***b)Solución Analítica***\n",
        "\n",
        "\n",
        "Para determinar la probabilidad de interferencia, debemos considerar que la interferencia ocurre si el diámetro de la flecha  $X_1$ es mayor que el diámetro  $X_2$. Donde las distribuciones están definidas como:\n",
        "\n",
        "$X_1 \\sim N(1.5, 0.0016)$\n",
        "\n",
        "$X_2 \\sim N(1.48, 0.0009)$\n",
        "\n",
        "Lo que nosotros queremos encontrar es $ P( z > x)= \\phi (x)$\n",
        "\n",
        "\n"
      ],
      "metadata": {
        "id": "YuqakdT3hkYu"
      },
      "id": "YuqakdT3hkYu"
    },
    {
      "cell_type": "markdown",
      "source": [
        "**Paso 1: Definir la Variable de Interferencia**\n",
        "\n",
        "Ahora dado que nuestra restricción ocurre cuando $X_1 > X_2$, esto dado que no embonarían\n",
        "\n",
        "$ \\Rightarrow    X_2 > X_1 $\n",
        "\n",
        "$ \\Rightarrow  X_2 -  X_1 > 0 $\n",
        "\n",
        "Así entonces dada la condición , haremos uso del ***Teorema de Suma y Resta de Variables Aletorias con una Distribución Normal*** que nos dice.\n",
        "\n",
        "Sean  $ σ_{1} ,σ_{2},  μ_{1} ,μ_{2} \\in \\mathbb{R} , σ_{i} > 0   $\n",
        "\n",
        "Entonces ***$X_1 \\sim N(\\mu_1, \\sigma_1) + X_2 \\sim N(\\mu_2, \\sigma_2) = X_1 + X_2 \\sim \\left( \\mu_1 - \\mu_2, \\sqrt{\\sigma_1^2 + \\sigma_2^2} \\right) $***\n",
        "\n",
        "Obteniendo la Esperanza y Varianza, adaptandola a nuestra conidicón, entonces:\n",
        "\n",
        "$ \\Rightarrow \\mu_{X_2} - \\mu_{X_1} =1.48 - 1.5   = -0.02 $\n",
        "\n",
        "$ \\Rightarrow \\sigma_{X_1}^2 + \\sigma_{X_2}^2 = 0.0016 + 0.0009 = 0.0025 $\n",
        "\n",
        "Obtenemos la Desviación Estándar:\n",
        "\n",
        "$ \\Rightarrow \\sqrt{0.0025} = 0.05 $\n",
        "\n",
        "\n",
        "\n",
        "\n",
        "\n",
        "\n",
        "\n"
      ],
      "metadata": {
        "id": "jJxEpC6FjzNB"
      },
      "id": "jJxEpC6FjzNB"
    },
    {
      "cell_type": "markdown",
      "source": [
        "***Paso 2: Calcular la Probabilidad de Interferencia***\n",
        "\n",
        "Dado que queremos obtener la probabilidad $P(X_2 -  X_1 > 0)$: , estandarizaremos nuestra variable.\n",
        "\n",
        "$P(X_2 -  X_1  > 0)$ .Realizando un cambio de variable, para facilitar los cálculos.\n",
        "\n",
        " Sea $ X = X_2 -  X_1 $\n",
        "\n",
        "\n",
        "$ \\Rightarrow P\\left(\\frac{X - \\mu_X}{\\sigma_X} > \\frac{0 - 0.02}{0.05}\\right) $\n",
        "\n",
        "$= P\\left(Z > \\frac{-0.02}{0.05}\\right) = P(Z > -0.4)$\n",
        "\n",
        "\n",
        "Para calcular la probabilidad de interferencia, es decir, $ P(X > 0) $, primero estandarizamos $ X $ para obtener $ Z $:\n",
        "\n",
        "$\n",
        "Z = \\frac{D - \\mu_D}{\\sigma_D} = \\frac{0 - (-0.02)}{0.05} = \\frac{0.02}{0.05} = 0.4\n",
        "$\n",
        "\n",
        "Entonces, la probabilidad de interferencia es:\n",
        "\n",
        "$\n",
        "P(X > 0) = 1 - P(Z \\leq 0.4)\n",
        "$\n",
        "\n",
        "Consultando una tabla de valores de la distribución normal estándar, $ P(Z \\leq 0.4) $ es aproximadamente $0.6554 $, entonces:\n",
        "\n",
        "$\n",
        "P(X > 0) = 1 - 0.6554 = 0.3446\n",
        "$\n",
        "\n",
        "Por lo tanto, la probabilidad de interferencia es aproximadamente $ 0.3446 $ Ó  $ 34.46\\% $.\n",
        "\n"
      ],
      "metadata": {
        "id": "-zhak7txpDsu"
      },
      "id": "-zhak7txpDsu"
    },
    {
      "cell_type": "markdown",
      "source": [
        "***b) Justificación del cálculo del intervalo de confianza y del número de corridas de la simulación.***\n",
        "\n",
        "Notemos que Utilizamos la fórmula:\n",
        "$\n",
        "N > \\left( \\frac{2 \\sigma z_{\\alpha/2}}{\\epsilon} \\right)^2\n",
        "$\n",
        "donde:\n",
        "\n",
        "$\\sigma$ es la desviación estándar de la variable $X$, que es 0.05.\n",
        "\n",
        "\n",
        "$z_{\\alpha/2}$ es el valor crítico de la distribución normal estándar para un nivel de confianza del 95\\%, que es aproximadamente 1.96.\n",
        "\n",
        "$\\epsilon$ es la precisión deseada, que es 0.01.\n",
        "\n",
        "\n",
        "Sustituyendo estos valores:\n",
        "\n",
        "\n",
        "$\n",
        "N > \\left( \\frac{2 \\cdot 0.05 \\cdot 1.96}{0.01} \\right)^2 = \\left( \\frac{0.196}{0.01} \\right)^2 = (19.6)^2 = 384.16 $\n",
        "\n",
        "\n",
        "\n",
        "⇒N >384.16\n",
        "\n",
        "\n",
        "\n",
        "Notemos que si coincide este resultado, ya que 384.19 corresponde al mínimo de simulaciones que tenemos que tener, donde nsootros obtuvimos 876 .\n",
        "\n",
        "Es importante verificar y comparar el método en la práctica, varias veces para su comprobación.\n",
        "\n"
      ],
      "metadata": {
        "id": "en708MnMuW3v"
      },
      "id": "en708MnMuW3v"
    },
    {
      "cell_type": "markdown",
      "source": [
        "***Cálculo del Intervalo de Confianza ***\n",
        "\n",
        "Utilizamos la fórmula del intervalo de confianza:\n",
        "\n",
        "$\n",
        "\\bar{x} - z_{\\alpha/2} \\cdot \\frac{s}{\\sqrt{n}} < \\mu < \\bar{x} + z_{\\alpha/2} \\cdot \\frac{s}{\\sqrt{n}}\n",
        "$\n",
        "\n",
        "donde:\n",
        "\n",
        "\n",
        "$\\bar{x}$ es la media muestral.\n",
        "\n",
        "$z_{\\alpha/2}$ es el valor crítico de la distribución normal estándar.\n",
        "\n",
        "$s$ es la desviación estándar muestral.\n",
        "\n",
        "$n$ es el tamaño de la muestra.\n",
        "\n",
        "Asi entonces tenemos considerando los valores de Y:\n",
        "\n",
        "\n",
        "Cálculo del Error Estándar para $Y$\n",
        "\n",
        "El error estándar de la media muestral es:\n",
        "\n",
        "$\n",
        "\\text{SE}_Y = \\frac{s}{\\sqrt{n}} = \\frac{0.00714}{\\sqrt{50}} \\approx 0.00101\n",
        "$\n",
        "\n",
        "Cálculo del Margen de Error para $Y$\n",
        "\n",
        "El margen de error usando el valor crítico $z_{\\alpha/2}$:\n",
        "\n",
        "$\n",
        "\\text{ME}_Y = 1.96 \\cdot 0.00101 \\approx 0.00198\n",
        "$\n",
        "\n",
        "\n",
        "Cálculo del Intervalo de Confianza para $Y$:\n",
        "\n",
        "\n",
        "\n",
        "Finalmente, el intervalo de confianza es:\n",
        "$\n",
        "0.3463 - 0.00198 < \\mu < 0.3463 + 0.00198\n",
        "$\n",
        "\n",
        "Simplificando, obtenemos:\n",
        "$\n",
        "0.34432 < \\mu < 0.34828\n",
        "$\n",
        "\n",
        "\n",
        "\n",
        "\n",
        "\n",
        "Este intervalo de confianza nos asegura que con un nivel de confianza del 95\\%, el valor verdadero de la media $\\mu$ estará dentro del rango calculado.\n"
      ],
      "metadata": {
        "id": "IGzShqzSwygV"
      },
      "id": "IGzShqzSwygV"
    }
  ],
  "metadata": {
    "kernelspec": {
      "display_name": "Python 3 (ipykernel)",
      "language": "python",
      "name": "python3"
    },
    "language_info": {
      "codemirror_mode": {
        "name": "ipython",
        "version": 3
      },
      "file_extension": ".py",
      "mimetype": "text/x-python",
      "name": "python",
      "nbconvert_exporter": "python",
      "pygments_lexer": "ipython3",
      "version": "3.7.3"
    },
    "colab": {
      "provenance": []
    }
  },
  "nbformat": 4,
  "nbformat_minor": 5
}