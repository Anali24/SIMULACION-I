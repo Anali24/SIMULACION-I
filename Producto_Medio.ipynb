{
  "nbformat": 4,
  "nbformat_minor": 0,
  "metadata": {
    "colab": {
      "provenance": [],
      "authorship_tag": "ABX9TyPCbHZqhs66vU3s9jzQrcsU",
      "include_colab_link": true
    },
    "kernelspec": {
      "name": "python3",
      "display_name": "Python 3"
    },
    "language_info": {
      "name": "python"
    }
  },
  "cells": [
    {
      "cell_type": "markdown",
      "metadata": {
        "id": "view-in-github",
        "colab_type": "text"
      },
      "source": [
        "<a href=\"https://colab.research.google.com/github/Anali24/SIMULACION-I/blob/main/Producto_Medio.ipynb\" target=\"_parent\"><img src=\"https://colab.research.google.com/assets/colab-badge.svg\" alt=\"Open In Colab\"/></a>"
      ]
    },
    {
      "cell_type": "markdown",
      "source": [
        "# Cuadrado Medio\n",
        "\n",
        "Es un algoritmo no congruencial que fue propuesto en los años cuarenta por Von Neumann y Metrópolis . Este algoritmo necesita un número entero detonador también llamado “Semilla” con D dígitos, el cual es elevado al cuadrado para seleccionar del resultado los D dígitos del centro; el primer número ri, es determinado anteponiendo el “0” a estos dígitos. El segundo ri se obtiene con el mismo procedimiento, solo que en este se elevan al cuadrado los D dígitos del centro que se seleccionaron para obtener el primer ri. Este método se repite hasta obtener n número ri.\n",
        "\n",
        "Algoritmo:\n",
        "\n",
        "\n",
        "1.   Tomamos dos números de 3 digitos y multiplicamos\n",
        "2.   Elevamos al cuadrado\n",
        "3.   Tomamos 4*m digitos (cuando son 7 digitos agregamos un 0)\n",
        "4.   Tomamos el cuadrado medio x1\n",
        "5.   Elevemos al cuadrado y sigue ...\n",
        "\n"
      ],
      "metadata": {
        "id": "bOINJva91Y3W"
      }
    },
    {
      "cell_type": "code",
      "source": [
        "#Valdez Garcia Karla Anali\n",
        "#Simulación I 21/02/24\n",
        "\n",
        "#Números aleatorios multiplicación\n",
        "#2 Numeros de 3 digitos\n",
        "#Elevar al cuadrado\n",
        "#3 Tomar el cuadrado medio\n",
        "\n",
        "#Definimos una función para realizar la operación de los 2 números de 3 digitos\n",
        "def num( x0,x1 ):\n",
        "  y=x0*x1\n",
        "  b=str(y)\n",
        "  n=len(str(y))\n",
        "#Contamos los elementos y si el modulo de 5 es 0, no agrega 0's extras\n",
        "  if n%5==0:\n",
        "    l=list(b) #lista de los 3 elementos del cuadrado de numero\n",
        "    a=l[1:4]\n",
        "    cad=\"\".join(map(str, a))\n",
        "    entero=int(cad)\n",
        "#Agregamos 0's a la izquierda de nuestro número\n",
        "  else:\n",
        "    l=list(b)\n",
        "    l.insert(0,0) #agregamos en la posición 0 un 0\n",
        "    a=l[2:5]\n",
        "    cad=\"\".join(map(str, a)) #hacemos una lista cadena\n",
        "    entero=int(cad)\n",
        "\n",
        "  return entero\n",
        "\n",
        "x0=123\n",
        "x1=456\n",
        "\n",
        "for _ in range(10): #hacemos ciclico\n",
        "  x0= num( x0, x1 )\n",
        "  print(x0)"
      ],
      "metadata": {
        "colab": {
          "base_uri": "https://localhost:8080/"
        },
        "id": "R8_2Xkc21aPf",
        "outputId": "fac37c8c-8b26-4722-b531-2195775e4362"
      },
      "execution_count": 4,
      "outputs": [
        {
          "output_type": "stream",
          "name": "stdout",
          "text": [
            "608\n",
            "772\n",
            "520\n",
            "371\n",
            "691\n",
            "150\n",
            "840\n",
            "830\n",
            "784\n",
            "575\n"
          ]
        }
      ]
    }
  ]
}