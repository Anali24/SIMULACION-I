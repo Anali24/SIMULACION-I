{
  "nbformat": 4,
  "nbformat_minor": 0,
  "metadata": {
    "colab": {
      "provenance": [],
      "authorship_tag": "ABX9TyP6SJNyx3h7QlvYpbxWQ7br",
      "include_colab_link": true
    },
    "kernelspec": {
      "name": "python3",
      "display_name": "Python 3"
    },
    "language_info": {
      "name": "python"
    }
  },
  "cells": [
    {
      "cell_type": "markdown",
      "metadata": {
        "id": "view-in-github",
        "colab_type": "text"
      },
      "source": [
        "<a href=\"https://colab.research.google.com/github/Anali24/SIMULACION-I/blob/main/Producto_Medio.ipynb\" target=\"_parent\"><img src=\"https://colab.research.google.com/assets/colab-badge.svg\" alt=\"Open In Colab\"/></a>"
      ]
    },
    {
      "cell_type": "markdown",
      "source": [
        "# Producto Medio\n",
        "\n",
        "Este algoritmo requiere de dos semillas; ambas con D dígitos; además de elevarlas al cuadrado, las semillas se multiplican y del producto resultante se seleccionan los D dígitos del centro, los cuales formaran el primer número de D dígitos. Después se elimina una semilla y la otra se multiplica por el primer número de D dígitos, para luego seleccionar del producto los D dígitos que conformaran un segundo número ri. Entonces se elimina la segunda semilla, y se multiplica el primer número de los D dígitos por el segundo número de los D dígitos; del producto se obtiene el tercer número de ri. Siempre se ira eliminando el número más antiguo y el procedimiento se repetirá hasta generar los n números pseudo aleatorios.\n",
        "\n",
        "Algoritmo:\n",
        "\n",
        "\n",
        "1.   Tomamos dos semillas de 3 digitos y multiplicamos\n",
        "2.   Elevamos al cuadrado\n",
        "3.   Tomamos 3*m digitos (cuando son 7 digitos agregamos un 0)\n",
        "4.   Tomamos el cuadrado medio x1\n",
        "5.   Elevemos al cuadrado y sigue ...\n",
        "\n"
      ],
      "metadata": {
        "id": "bOINJva91Y3W"
      }
    },
    {
      "cell_type": "code",
      "source": [
        "#Valdez Garcia Karla Anali\n",
        "#Simulación I 21/02/24\n",
        "#Números aleatorios multiplicación\n",
        "#2 Numeros de 3 digitos\n",
        "#Elevar al cuadrado\n",
        "#3 Tomar el cuadrado medio\n",
        "\n",
        "#Definimos una función para realizar la operación de las 2 semillas de 3 digitos\n",
        "def num(x0, x1):\n",
        "    generados = []\n",
        "\n",
        "    y = x0 * x1\n",
        "    b = str(y)\n",
        "    n = len(str(y))\n",
        "\n",
        "    if n % 5 == 0:\n",
        "        l = list(b)\n",
        "        a = l[1:4]\n",
        "        cad = \"\".join(map(str, a))\n",
        "        entero = int(cad)\n",
        "        generados.append(entero)\n",
        "    else:\n",
        "        l = list(b)\n",
        "        l.insert(0, 0)\n",
        "        a = l[2:5]\n",
        "        cad = \"\".join(map(str, a))\n",
        "        entero = int(cad)\n",
        "        generados.append(entero)\n",
        "\n",
        "    return generados\n",
        "\n",
        "# Definimos semillas\n",
        "x0 = 999\n",
        "x1 = 124\n",
        "\n",
        "# Lista para almacenar todos los números generados\n",
        "generados = []\n",
        "\n",
        "for _ in range(10):\n",
        "    # Agregamos los números generados en esta iteración a la lista\n",
        "    generados.extend(num(x0, x1)) #usamos extend ya que agrega todos los elementos\n",
        "    #append solo agrega el último\n",
        "\n",
        "    # Actualizamos las semillas para la próxima iteración\n",
        "    x0 = x1\n",
        "    x1 = generados[-1]  # Tomamos el último número generado como la nueva semilla x1\n",
        "\n",
        "# Imprimimos todos los números generados\n",
        "print(\"Números generados:\", generados)\n",
        "\n",
        ""
      ],
      "metadata": {
        "colab": {
          "base_uri": "https://localhost:8080/"
        },
        "id": "R8_2Xkc21aPf",
        "outputId": "39e8a160-7fd8-4b30-b034-1007a7864d72"
      },
      "execution_count": 57,
      "outputs": [
        {
          "output_type": "stream",
          "name": "stdout",
          "text": [
            "Números generados: [238, 951, 263, 501, 317, 588, 863, 74, 386, 856]\n"
          ]
        }
      ]
    }
  ]
}