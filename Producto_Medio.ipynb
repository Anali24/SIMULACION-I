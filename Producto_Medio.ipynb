{
  "nbformat": 4,
  "nbformat_minor": 0,
  "metadata": {
    "colab": {
      "provenance": [],
      "authorship_tag": "ABX9TyPTf6X39CKKnHy40S9TjqFU",
      "include_colab_link": true
    },
    "kernelspec": {
      "name": "python3",
      "display_name": "Python 3"
    },
    "language_info": {
      "name": "python"
    }
  },
  "cells": [
    {
      "cell_type": "markdown",
      "metadata": {
        "id": "view-in-github",
        "colab_type": "text"
      },
      "source": [
        "<a href=\"https://colab.research.google.com/github/Anali24/SIMULACION-I/blob/main/Producto_Medio.ipynb\" target=\"_parent\"><img src=\"https://colab.research.google.com/assets/colab-badge.svg\" alt=\"Open In Colab\"/></a>"
      ]
    },
    {
      "cell_type": "code",
      "execution_count": 1,
      "metadata": {
        "colab": {
          "base_uri": "https://localhost:8080/"
        },
        "id": "aHAcbRGkCp_6",
        "outputId": "0da1af29-e917-4d90-c42a-74db9a28095d"
      },
      "outputs": [
        {
          "output_type": "stream",
          "name": "stdout",
          "text": [
            "608\n",
            "772\n",
            "520\n",
            "371\n"
          ]
        }
      ],
      "source": [
        "#Valdez Garcia Karla Anali\n",
        "#Simulación I 21/02/24\n",
        "#Números aleatorios multiplicación\n",
        "#2 Numeros de 3 digitos\n",
        "#Elevar al cuadrado\n",
        "#3 Tomar el cuadrado medio\n",
        "\n",
        "\n",
        "def num( x0,x1 ):\n",
        "  y=x0*x1\n",
        "  b=str(y)\n",
        "  n=len(str(y))\n",
        "\n",
        "  if n%5==0:\n",
        "    l=list(b) #lista de los 3 elementos del cuadrado de numero\n",
        "    a=l[1:4]\n",
        "    cad=\"\".join(map(str, a))\n",
        "    entero=int(cad)\n",
        "  else:\n",
        "    l=list(b)\n",
        "    l.insert(0,0) #agregamos en la posición 0 un 0\n",
        "    a=l[2:5]\n",
        "    cad=\"\".join(map(str, a)) #hacemos una lista cadena\n",
        "    entero=int(cad)\n",
        "\n",
        "  return entero\n",
        "\n",
        "x0=123\n",
        "x1=456\n",
        "\n",
        "for _ in range(4): #hacemos ciclico\n",
        "  x0= num( x0, x1 )\n",
        "  print(x0)"
      ]
    }
  ]
}