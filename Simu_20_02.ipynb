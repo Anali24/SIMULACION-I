{
  "nbformat": 4,
  "nbformat_minor": 0,
  "metadata": {
    "colab": {
      "provenance": [],
      "authorship_tag": "ABX9TyN131on1CyBI5JvvvTsAySe",
      "include_colab_link": true
    },
    "kernelspec": {
      "name": "python3",
      "display_name": "Python 3"
    },
    "language_info": {
      "name": "python"
    }
  },
  "cells": [
    {
      "cell_type": "markdown",
      "metadata": {
        "id": "view-in-github",
        "colab_type": "text"
      },
      "source": [
        "<a href=\"https://colab.research.google.com/github/Anali24/SIMULACION-I/blob/main/Simu_20_02.ipynb\" target=\"_parent\"><img src=\"https://colab.research.google.com/assets/colab-badge.svg\" alt=\"Open In Colab\"/></a>"
      ]
    },
    {
      "cell_type": "code",
      "execution_count": null,
      "metadata": {
        "id": "JdPw4CKm2Pma"
      },
      "outputs": [],
      "source": [
        "#Valdez Garcia Karla Anali\n",
        "#Simulación I 20/02/24\n",
        "#Números aleatorios\n",
        "#1 Numero de 4 digitos\n",
        "#Elevar al cuadrado\n",
        "#3 Tomar el cuadrado medio\n",
        "\n",
        "\n",
        "def num( x ):\n",
        "  y=x**2\n",
        "  print(y)\n",
        "  b=str(y)\n",
        "  n=len(str(y))\n",
        "\n",
        "  if n%2==0:\n",
        "    l=list(b) #lista de los 4 elementos del cuadrado de numero\n",
        "    a=l[2:6]\n",
        "    cad=\"\".join(map(str, a))\n",
        "    entero=int(cad)\n",
        "  else:\n",
        "    l=list(b) #lista de los 4 elementos del cuadrado de numero\n",
        "    l.insert(0,0) #agregamos en la posición 0 un 0\n",
        "    print(l)\n",
        "    a=l[2:6]\n",
        "    cad=\"\".join(map(str, a))\n",
        "    entero=int(cad)\n",
        "\n",
        "\n",
        "\n",
        "\n",
        "  return entero\n",
        "\n",
        "\n",
        "\n",
        "\n",
        "\n",
        "\n",
        "\n",
        "\n",
        "\n"
      ]
    },
    {
      "cell_type": "code",
      "source": [
        "num(2111)"
      ],
      "metadata": {
        "colab": {
          "base_uri": "https://localhost:8080/"
        },
        "id": "8nuC_4KA3WUb",
        "outputId": "092cb54b-55a1-43ae-8522-16505f6bb66d"
      },
      "execution_count": null,
      "outputs": [
        {
          "output_type": "stream",
          "name": "stdout",
          "text": [
            "4456321\n",
            "[0, '4', '4', '5', '6', '3', '2', '1']\n"
          ]
        },
        {
          "output_type": "execute_result",
          "data": {
            "text/plain": [
              "4563"
            ]
          },
          "metadata": {},
          "execution_count": 19
        }
      ]
    },
    {
      "cell_type": "code",
      "source": [],
      "metadata": {
        "id": "aADUqomO-en6"
      },
      "execution_count": null,
      "outputs": []
    }
  ]
}