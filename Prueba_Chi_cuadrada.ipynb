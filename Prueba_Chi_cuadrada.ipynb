{
  "nbformat": 4,
  "nbformat_minor": 0,
  "metadata": {
    "colab": {
      "provenance": [],
      "authorship_tag": "ABX9TyNBS3z8EzbrOIvaeVzE2djK",
      "include_colab_link": true
    },
    "kernelspec": {
      "name": "python3",
      "display_name": "Python 3"
    },
    "language_info": {
      "name": "python"
    }
  },
  "cells": [
    {
      "cell_type": "markdown",
      "metadata": {
        "id": "view-in-github",
        "colab_type": "text"
      },
      "source": [
        "<a href=\"https://colab.research.google.com/github/Anali24/SIMULACION-I/blob/main/Prueba_Chi_cuadrada.ipynb\" target=\"_parent\"><img src=\"https://colab.research.google.com/assets/colab-badge.svg\" alt=\"Open In Colab\"/></a>"
      ]
    },
    {
      "cell_type": "markdown",
      "source": [
        "# Prueba de Bondad de Ajuste χ^2\n",
        "Es una forma de hipótesis que utiliza el estadístico :\n",
        "\n",
        "χ^2c donde:\n",
        "\n",
        "Oi= frecuencia observada en la clase i\n",
        "\n",
        "Ei= frecuencia esperada en la clase i\n",
        "\n",
        "n= número de clases\n",
        "\n",
        "Estimamos la frecuencia esperada mediante la relación:\n",
        "\n",
        "Ei= T/n (Para x~U(a,b)\n",
        "\n",
        "donde T es el número total de datos de la muestra.\n",
        "\n",
        "**Paso1: **\n",
        "\n",
        "Ho= Los números de la muestra provienen de una distribución uniforme en el intervalo (a,b), a un nivel de significancia alpha= 100-aceptación.\n",
        "\n",
        "H1= Negamos Ho\n",
        "\n",
        "**Paso 2:**\n",
        "\n",
        "Nivel de Significancia alpha = 100- aceptación\n",
        "\n",
        "**Paso 3:**\n",
        "\n",
        "Seleccionamos χ^2 como estadística de pruebas\n",
        "\n",
        "**Paso 4:**\n",
        "Valor Critico:\n",
        "\n",
        "Con el valor aplha y los grados de libertad, calculamos el valor círtico (lo vemos en la tabala chi cuadrada)\n",
        "\n",
        "**Paso 5:**\n",
        "\n",
        "Si la suma o valor estadístico es < valor crítico, si no se rechaza H1"
      ],
      "metadata": {
        "id": "GLGkFggVnoP-"
      }
    },
    {
      "cell_type": "code",
      "source": [
        "#Karla Anali Valdez Garcia\n",
        "#7MM1\n",
        "#T=50 datos\n",
        "#5clases\n",
        "#aplha= 0.5\n",
        "\n",
        "import numpy as np\n",
        "#llenado de clases\n",
        "def clases(datos):\n",
        "    datos1 = []\n",
        "    datos2 = []\n",
        "    datos3 = []\n",
        "    datos4 = []\n",
        "    datos5 = []\n",
        "    indices = np.arange(50)\n",
        "    for i in indices:\n",
        "        if 0 <= datos[i] <= 0.2:\n",
        "            datos1.append(datos[i])\n",
        "        if 0.2 < datos[i] <= 0.4:\n",
        "            datos2.append(datos[i])\n",
        "        if 0.4 < datos[i] <= 0.6:\n",
        "            datos3.append(datos[i])\n",
        "        if 0.6 < datos[i] <= 0.8:\n",
        "            datos4.append(datos[i])\n",
        "        if 0.8 < datos[i] <= 1:\n",
        "            datos5.append(datos[i])\n",
        "    clasesx = [datos1,datos2,datos3,datos4,datos5]\n",
        "    return clasesx"
      ],
      "metadata": {
        "id": "oUuru-sYoDDm"
      },
      "execution_count": 4,
      "outputs": []
    },
    {
      "cell_type": "code",
      "source": [
        "#prueba chi cuadrada\n",
        "def prueba(N,n,clasesx):\n",
        "    freesp = N/n\n",
        "    freobs = np.zeros(n)\n",
        "    indices1 = np.arange(5)\n",
        "    for i in indices1:\n",
        "        freobs[i] = len(clasesx[i])\n",
        "    chicuadrada = 0\n",
        "    indices = np.arange(n)\n",
        "    for i in indices:\n",
        "        chicuadrada = chicuadrada + ((freobs[i] - freesp)**2/freesp)\n",
        "    return chicuadrada"
      ],
      "metadata": {
        "id": "vRxtch_IoKhL"
      },
      "execution_count": 5,
      "outputs": []
    },
    {
      "cell_type": "code",
      "source": [
        "#Programa principal\n",
        "datos = [0.8797, 0.9848, 0.4557, 0.9170, 0.8376, 0.3884, 0.3469, 0.1592, 0.2204, 0.6235, 0.6289, 0.7977, 0.8536, 0.5991, 0.3681, 0.8750, 0.5844, 0.8846, 0.5461, 0.2088, 0.5999, 0.8147, 0.3410, 0.5739, 0.1525, 0.8589, 0.6431, 0.1492, 0.3254, 0.2006, 0.9996, 0.7387, 0.8681, 0.0856, 0.4720, 0.2415, 0.5613, 0.5291, 0.2258, 0.4272, 0.3808, 0.0318, 0.3188, 0.4603, 0.6360, 0.9606, 0.7401, 0.5992, 0.5027, 0.0954]\n",
        "datos = np.array(datos)\n",
        "clasesx = clases(datos)\n",
        "N = len(datos)\n",
        "n = len(clasesx)\n",
        "chicuadrada = prueba(N,n,clasesx)\n",
        "valcrit = 9.48\n",
        "print(\"El valor de chi cuadrada es: \",chicuadrada)\n",
        "print (\"El valor critico es: \",valcrit)\n",
        "if chicuadrada <= valcrit:\n",
        "    print(\"Por lo tanto, no se rechaza la hipotesis nula. \")\n",
        "else:\n",
        "    print(\"Por lo tanto, se rechaza la hipotesis nula.\")"
      ],
      "metadata": {
        "colab": {
          "base_uri": "https://localhost:8080/"
        },
        "id": "DX1xd9mDoOZE",
        "outputId": "52b11469-4914-414f-c5cd-64ee74deecbb"
      },
      "execution_count": 6,
      "outputs": [
        {
          "output_type": "stream",
          "name": "stdout",
          "text": [
            "El valor de chi cuadrada es:  4.2\n",
            "El valor critico es:  9.48\n",
            "Por lo tanto, no se rechaza la hipotesis nula. \n"
          ]
        }
      ]
    }
  ]
}