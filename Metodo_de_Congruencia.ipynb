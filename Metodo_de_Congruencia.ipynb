{
  "nbformat": 4,
  "nbformat_minor": 0,
  "metadata": {
    "colab": {
      "provenance": [],
      "authorship_tag": "ABX9TyOw+my/4zlO7VPhmywcQne4",
      "include_colab_link": true
    },
    "kernelspec": {
      "name": "python3",
      "display_name": "Python 3"
    },
    "language_info": {
      "name": "python"
    }
  },
  "cells": [
    {
      "cell_type": "markdown",
      "metadata": {
        "id": "view-in-github",
        "colab_type": "text"
      },
      "source": [
        "<a href=\"https://colab.research.google.com/github/Anali24/SIMULACION-I/blob/main/Metodo_de_Congruencia.ipynb\" target=\"_parent\"><img src=\"https://colab.research.google.com/assets/colab-badge.svg\" alt=\"Open In Colab\"/></a>"
      ]
    },
    {
      "cell_type": "markdown",
      "source": [
        "# Generador Congruencial\n",
        "\n",
        "Es un algoritmo que permite obtener una secuencia de números pseudoaleatorios calculados con una función lineal definida a trozos discontinua\n",
        "La secuencia de números entero X1,X2,X3.. está definida por la relación de recurrencia:\n",
        "\n",
        "con 0<= Xi >= m-1, donde m(modulo), a(multiplicador),c(incremento) y X0 (semilla)\n",
        "\n",
        "Además m>0, 0<a<m , 0<=c<m y 0<=x0<m\n",
        "Si  c=0 , el generador es llamado frecuentemente Generador Congruencial Lineal Multiplicativo o pseudoaleatorio de Lehmer.\n",
        "\n",
        "\n",
        "El periodo máximo puede ser a lo más su módulo m y en tal caso diremos que el generador congruencial tiene un periodo completo."
      ],
      "metadata": {
        "id": "Q4TPgfgHZWm0"
      }
    },
    {
      "cell_type": "code",
      "source": [
        "#Valdez Garcia Karla Anali\n",
        "#27/02/24\n",
        "#Método de Congruencia\n",
        "#sololearn\n",
        "from prettytable import PrettyTable\n",
        "def num(x0, m, a, c ,iteraciones ):\n",
        "  xn=x0\n",
        "  tabla = PrettyTable()\n",
        "  tabla.field_names = [\"Iteración\", \"Xn\",\"aXn + c\", \"Xn/m\"]\n",
        "\n",
        "  for i in range(iteraciones):\n",
        "    x1= xn/m\n",
        "    xa= (a*xn+c) #Calculamos  aXn + c\n",
        "    xn= xa % m #modulo\n",
        "    tabla.add_row([i + 1, xn, xa , x1])\n",
        "  print(tabla)\n"
      ],
      "metadata": {
        "id": "yTxcG2PixnEe"
      },
      "execution_count": 17,
      "outputs": []
    },
    {
      "cell_type": "code",
      "source": [
        "num(6 ,16, 5, 5 ,20 )"
      ],
      "metadata": {
        "colab": {
          "base_uri": "https://localhost:8080/"
        },
        "id": "aj63j5yvx_lb",
        "outputId": "231bde95-7446-4ce0-c8a5-eb11dee8945c"
      },
      "execution_count": 18,
      "outputs": [
        {
          "output_type": "stream",
          "name": "stdout",
          "text": [
            "+-----------+----+---------+--------+\n",
            "| Iteración | Xn | aXn + c |  Xn/m  |\n",
            "+-----------+----+---------+--------+\n",
            "|     1     | 3  |    35   | 0.375  |\n",
            "|     2     | 4  |    20   | 0.1875 |\n",
            "|     3     | 9  |    25   |  0.25  |\n",
            "|     4     | 2  |    50   | 0.5625 |\n",
            "|     5     | 15 |    15   | 0.125  |\n",
            "|     6     | 0  |    80   | 0.9375 |\n",
            "|     7     | 5  |    5    |  0.0   |\n",
            "|     8     | 14 |    30   | 0.3125 |\n",
            "|     9     | 11 |    75   | 0.875  |\n",
            "|     10    | 12 |    60   | 0.6875 |\n",
            "|     11    | 1  |    65   |  0.75  |\n",
            "|     12    | 10 |    10   | 0.0625 |\n",
            "|     13    | 7  |    55   | 0.625  |\n",
            "|     14    | 8  |    40   | 0.4375 |\n",
            "|     15    | 13 |    45   |  0.5   |\n",
            "|     16    | 6  |    70   | 0.8125 |\n",
            "|     17    | 3  |    35   | 0.375  |\n",
            "|     18    | 4  |    20   | 0.1875 |\n",
            "|     19    | 9  |    25   |  0.25  |\n",
            "|     20    | 2  |    50   | 0.5625 |\n",
            "+-----------+----+---------+--------+\n"
          ]
        }
      ]
    }
  ]
}