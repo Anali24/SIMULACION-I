{
  "nbformat": 4,
  "nbformat_minor": 0,
  "metadata": {
    "colab": {
      "provenance": [],
      "authorship_tag": "ABX9TyNddfN0buXpbwPxGge4nQ56",
      "include_colab_link": true
    },
    "kernelspec": {
      "name": "python3",
      "display_name": "Python 3"
    },
    "language_info": {
      "name": "python"
    }
  },
  "cells": [
    {
      "cell_type": "markdown",
      "metadata": {
        "id": "view-in-github",
        "colab_type": "text"
      },
      "source": [
        "<a href=\"https://colab.research.google.com/github/Anali24/SIMULACION-I/blob/main/Metodo_de_Congruencia.ipynb\" target=\"_parent\"><img src=\"https://colab.research.google.com/assets/colab-badge.svg\" alt=\"Open In Colab\"/></a>"
      ]
    },
    {
      "cell_type": "code",
      "execution_count": 100,
      "metadata": {
        "id": "MHXRssVy474X"
      },
      "outputs": [],
      "source": [
        "#Valdez Garcia Karla Anali\n",
        "#27/02/24\n",
        "#Método de Congruencia\n",
        "#sololearn\n",
        "\n",
        "def num(x0, m, a, c ,iteraciones ):\n",
        "  xn=x0\n",
        "  for i in range(iteraciones):\n",
        "    x1= xn/m\n",
        "    xn= (a*xn+c) % m #modulo\n",
        "    #print(f'x{i+1} = {xn}')\n",
        "    print(f'x{i+1} = {x1}')\n",
        "\n",
        "\n",
        "\n",
        "\n",
        "\n",
        "\n",
        "\n"
      ]
    },
    {
      "cell_type": "code",
      "source": [
        "num(x0, 16, 5, 5 ,20 )"
      ],
      "metadata": {
        "colab": {
          "base_uri": "https://localhost:8080/"
        },
        "id": "3xmJZHfWC8ZP",
        "outputId": "765eb4b3-9f1f-4382-990d-16d8b20b5034"
      },
      "execution_count": 101,
      "outputs": [
        {
          "output_type": "stream",
          "name": "stdout",
          "text": [
            "x1 = 0.375\n",
            "x2 = 0.1875\n",
            "x3 = 0.25\n",
            "x4 = 0.5625\n",
            "x5 = 0.125\n",
            "x6 = 0.9375\n",
            "x7 = 0.0\n",
            "x8 = 0.3125\n",
            "x9 = 0.875\n",
            "x10 = 0.6875\n",
            "x11 = 0.75\n",
            "x12 = 0.0625\n",
            "x13 = 0.625\n",
            "x14 = 0.4375\n",
            "x15 = 0.5\n",
            "x16 = 0.8125\n",
            "x17 = 0.375\n",
            "x18 = 0.1875\n",
            "x19 = 0.25\n",
            "x20 = 0.5625\n"
          ]
        }
      ]
    },
    {
      "cell_type": "code",
      "source": [
        "from tabulate import tabulate\n",
        "\n",
        "def num(x0, iteraciones):\n",
        "    xn = x0\n",
        "    resultados = []\n",
        "    for i in range(iteraciones):\n",
        "        x1= xn/16\n",
        "        xn = (5 * xn + 5) % 16  # módulo\n",
        "        #resultados.append([i + 1, xn])\n",
        "        resultados.append([i + 1, x1])\n",
        "    return resultados\n",
        "\n",
        "# Parámetros\n",
        "x0 = 6  # Semilla inicial\n",
        "iteraciones = 20  # Número de iteraciones\n",
        "\n",
        "# Calcular secuencia\n",
        "resultado_secuencia = num(x0, iteraciones)\n",
        "\n",
        "# Mostrar en tabla\n",
        "print(tabulate(resultado_secuencia, headers=[\"Iteración\", \"Valor\"]))"
      ],
      "metadata": {
        "colab": {
          "base_uri": "https://localhost:8080/"
        },
        "id": "OCcf_mgYHMZR",
        "outputId": "c99f0489-f94f-4d9b-b62a-dff7ec5541d4"
      },
      "execution_count": 105,
      "outputs": [
        {
          "output_type": "stream",
          "name": "stdout",
          "text": [
            "  Iteración    Valor\n",
            "-----------  -------\n",
            "          1   0.375\n",
            "          2   0.1875\n",
            "          3   0.25\n",
            "          4   0.5625\n",
            "          5   0.125\n",
            "          6   0.9375\n",
            "          7   0\n",
            "          8   0.3125\n",
            "          9   0.875\n",
            "         10   0.6875\n",
            "         11   0.75\n",
            "         12   0.0625\n",
            "         13   0.625\n",
            "         14   0.4375\n",
            "         15   0.5\n",
            "         16   0.8125\n",
            "         17   0.375\n",
            "         18   0.1875\n",
            "         19   0.25\n",
            "         20   0.5625\n"
          ]
        }
      ]
    }
  ]
}