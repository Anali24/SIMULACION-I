{
  "cells": [
    {
      "cell_type": "markdown",
      "metadata": {
        "id": "view-in-github",
        "colab_type": "text"
      },
      "source": [
        "<a href=\"https://colab.research.google.com/github/Anali24/SIMULACION-I/blob/main/Cuadrado_Medio.ipynb\" target=\"_parent\"><img src=\"https://colab.research.google.com/assets/colab-badge.svg\" alt=\"Open In Colab\"/></a>"
      ]
    },
    {
      "cell_type": "markdown",
      "source": [
        "# Cuadrado medio\n",
        "\n",
        "Es un algoritmo no congruencial que fue propuesto en los años cuarenta por Von Neumann y Metrópolis . Este algoritmo necesita un número entero detonador también llamado “Semilla” con D dígitos, el cual es elevado al cuadrado para seleccionar del resultado los D dígitos del centro; el primer número ri, es determinado anteponiendo el “0” a estos dígitos. El segundo ri se obtiene con el mismo procedimiento, solo que en este se elevan al cuadrado los D dígitos del centro que se seleccionaron para obtener el primer ri. Este método se repite hasta obtener n número ri.\n",
        "\n",
        "Algoritmo:\n",
        "\n",
        "\n",
        "1.   Tomamos un número de 4 dígitos\n",
        "2.   Elevamos al cuadrado\n",
        "3.   Tomamos 4*m digitos del anterior elevado (con m multiplo)\n",
        "4.   Nombramos xi y guardamos\n",
        "\n"
      ],
      "metadata": {
        "id": "GqMNWhnl90jE"
      }
    },
    {
      "cell_type": "code",
      "source": [
        "#Valdez Garcia Karla Anali\n",
        "#Simulación I 20/02/24\n",
        "#Números aleatorios\n",
        "#1 Numero de 4 digitos\n",
        "#Elevar al cuadrado\n",
        "#3 Tomar el cuadrado medio\n",
        "\n",
        "\n",
        "def num(x):\n",
        "    y = x ** 2\n",
        "    b = str(y)\n",
        "    n = len(str(y))\n",
        "\n",
        "    if n % 8 == 0:\n",
        "        l = list(b)  # Lista de los 4 elementos del cuadrado del número\n",
        "        a = l[2:6]\n",
        "        cad = \"\".join(map(str, a))\n",
        "        entero = int(cad)\n",
        "        return entero\n",
        "    else:\n",
        "        l = list(b)  # Lista de los 4 elementos del cuadrado del número\n",
        "        l.insert(0, 0)  # Agregamos en la posición 0 un 0\n",
        "        a = l[2:6]\n",
        "        cad = \"\".join(map(str, a))\n",
        "        entero = int(cad)\n",
        "        return entero #aqui regresamos solo el entero, ya que no regresas varias v\n",
        "\n",
        "# Definimos la semilla\n",
        "x = 2024\n",
        "\n",
        "# Lista para almacenar todos los números generados\n",
        "generados = []\n",
        "\n",
        "for _ in range(10):\n",
        "    # Agregamos el número generado en esta iteración a la lista\n",
        "    generados.append(num(x))  # Usamos append para agregar solo el último elemento\n",
        "\n",
        "    # Actualizamos las semillas para la próxima iteración\n",
        "    x = generados[-1]  # Tomamos el último número generado como la nueva semilla x1\n",
        "\n",
        "# Imprimimos todos los números generados\n",
        "print(\"Números generados:\", generados)\n"
      ],
      "metadata": {
        "colab": {
          "base_uri": "https://localhost:8080/"
        },
        "id": "CCecjlPl92CE",
        "outputId": "2dbb28c7-3fc2-4643-e634-dea0967dc125"
      },
      "execution_count": 25,
      "outputs": [
        {
          "output_type": "stream",
          "name": "stdout",
          "text": [
            "Números generados: [965, 3122, 7468, 7710, 4441, 7224, 1861, 4633, 4646, 5853]\n"
          ]
        }
      ]
    }
  ],
  "metadata": {
    "colab": {
      "provenance": [],
      "authorship_tag": "ABX9TyPE8OQIe8GmdupvRxjtL8su",
      "include_colab_link": true
    },
    "kernelspec": {
      "display_name": "Python 3",
      "name": "python3"
    },
    "language_info": {
      "name": "python"
    }
  },
  "nbformat": 4,
  "nbformat_minor": 0
}