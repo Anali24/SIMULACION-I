{
  "nbformat": 4,
  "nbformat_minor": 0,
  "metadata": {
    "colab": {
      "provenance": [],
      "authorship_tag": "ABX9TyPXMvok4ttmoTW13+3Byhvj",
      "include_colab_link": true
    },
    "kernelspec": {
      "name": "python3",
      "display_name": "Python 3"
    },
    "language_info": {
      "name": "python"
    }
  },
  "cells": [
    {
      "cell_type": "markdown",
      "metadata": {
        "id": "view-in-github",
        "colab_type": "text"
      },
      "source": [
        "<a href=\"https://colab.research.google.com/github/Anali24/SIMULACION-I/blob/main/Kolmogorv_SI.ipynb\" target=\"_parent\"><img src=\"https://colab.research.google.com/assets/colab-badge.svg\" alt=\"Open In Colab\"/></a>"
      ]
    },
    {
      "cell_type": "markdown",
      "source": [
        "## Kolmogorv SI\n",
        "\n",
        "La prueba de Kolmogorov-Smirnov se utiliza para probar la bondad del ajuste de una distribución de frecuencia teórica, es decir, si existe una diferencia significativa entre la distribución de la frecuencia observada y la distribución de frecuencia teórica (esperada).\n",
        "\n",
        "Algoritmo:\n",
        "\n",
        "\n",
        "\n",
        "1.   Ordenar de menor al mayor los numeros aleatorios Xi\n",
        "2.   Calcule D+, D- y D, donde:\n",
        "\n",
        "D+ = max 1<i<n | i/n - Xi|\n",
        "\n",
        "D- = max 1<i<n |xi - (i-1)/n|\n",
        "\n",
        "D = max{ D+ , D-}\n",
        "\n",
        "3.  Comparamos con el valor crítico (en la tabla)\n",
        "\n",
        "4.  Se acepta si D < d alpha n\n",
        "\n",
        "\n",
        "\n"
      ],
      "metadata": {
        "id": "AVDhmUVtjmNX"
      }
    },
    {
      "cell_type": "code",
      "source": [
        "#Prueba Kolmogorv-Smirnov\n",
        "#Valdez Garcia Karla Anali\n",
        "#7MM1\n",
        "\n",
        "#1.Ordenamos los datos de menor a mayor.\n",
        "from prettytable import PrettyTable\n",
        "import numpy as np\n",
        "\n",
        "def num(datos):\n",
        "  datos = [0.8797, 0.9848, 0.4557, 0.9170, 0.8376, 0.3884, 0.3469, 0.1592, 0.2204, 0.6235, 0.6289, 0.7977, 0.8536, 0.5991, 0.3681, 0.8750, 0.5844, 0.8846, 0.5461, 0.2088, 0.5999, 0.8147, 0.3410, 0.5739, 0.1525, 0.8589, 0.6431, 0.1492, 0.3254, 0.2006, 0.9996, 0.7387, 0.8681, 0.0856, 0.4720, 0.2415, 0.5613, 0.5291, 0.2258, 0.4272, 0.3808, 0.0318, 0.3188, 0.4603, 0.6360, 0.9606, 0.7401, 0.5992, 0.5027, 0.0954]\n",
        "  lista_ordenada = sorted(datos) #oredena los datos de menor a mayor\n",
        "\n",
        "#Hacemos una tabla de los datos organizados\n",
        "\n",
        "  tabla = PrettyTable()\n",
        "  tabla.field_names = [\"i\", \"Xi\"]\n",
        "\n",
        "  for i in range(50):\n",
        "      tabla.add_row([i + 1, lista_ordenada[i]])\n",
        "  print(tabla)\n",
        "\n",
        "#2. Calcular D+\n",
        "def Dpositiva(lista_ordenada):\n",
        "  max_valor = float('-inf')  # Inicializar con un valor muy pequeño\n",
        "  for i in range (50):\n",
        "    valor = abs(i / 50 - lista_ordenada[i])\n",
        "    max_valor = max(max_valor , valor)\n",
        "  return max_valor\n",
        "#3. Calcular D-\n",
        "def Dnegativa(lista_ordenada):\n",
        "  min_valor = float('-inf')  # Inicializar con un valor muy pequeño\n",
        "  for i in range (50):\n",
        "    valormin = abs( lista_ordenada[i] - ( (i -1) / 50) )\n",
        "    min_valor = max(min_valor , valormin)\n",
        "  return min_valor\n",
        "\n",
        "#4. D media, calculamos el max de D+ y D-\n",
        "def Dmedia(Dpositiva,Dnegativa):\n",
        "  media_valor = max(Dpositiva(lista_ordenada) , Dnegativa(lista_ordenada) )\n",
        "\n",
        "  return media_valor\n",
        "\n",
        "#Ahora calulamos con el valor crítico.\n",
        "vc= 0.1246 #valor de la tabla Kolmogorov de alpha00.05 y n=50\n",
        "def comparacion(Dmedia,vc):\n",
        "  if Dmedia(Dpositiva,Dnegativa) < vc:\n",
        "    print( \"Se acepeta la hipótesis\")\n",
        "  else:\n",
        "    print( \"Se rechaza la hipótesis\")\n"
      ],
      "metadata": {
        "id": "TXZ4HR-XjnM4"
      },
      "execution_count": 68,
      "outputs": []
    },
    {
      "cell_type": "code",
      "source": [
        "num(datos)"
      ],
      "metadata": {
        "colab": {
          "base_uri": "https://localhost:8080/"
        },
        "id": "yFsf38cGNy4K",
        "outputId": "f2ed45ac-3016-4f55-b3ad-503998a0080a"
      },
      "execution_count": 69,
      "outputs": [
        {
          "output_type": "stream",
          "name": "stdout",
          "text": [
            "+----+--------+\n",
            "| i  |   Xi   |\n",
            "+----+--------+\n",
            "| 1  | 0.0318 |\n",
            "| 2  | 0.0856 |\n",
            "| 3  | 0.0954 |\n",
            "| 4  | 0.1492 |\n",
            "| 5  | 0.1525 |\n",
            "| 6  | 0.1592 |\n",
            "| 7  | 0.2006 |\n",
            "| 8  | 0.2088 |\n",
            "| 9  | 0.2204 |\n",
            "| 10 | 0.2258 |\n",
            "| 11 | 0.2415 |\n",
            "| 12 | 0.3188 |\n",
            "| 13 | 0.3254 |\n",
            "| 14 | 0.341  |\n",
            "| 15 | 0.3469 |\n",
            "| 16 | 0.3681 |\n",
            "| 17 | 0.3808 |\n",
            "| 18 | 0.3884 |\n",
            "| 19 | 0.4272 |\n",
            "| 20 | 0.4557 |\n",
            "| 21 | 0.4603 |\n",
            "| 22 | 0.472  |\n",
            "| 23 | 0.5027 |\n",
            "| 24 | 0.5291 |\n",
            "| 25 | 0.5461 |\n",
            "| 26 | 0.5613 |\n",
            "| 27 | 0.5739 |\n",
            "| 28 | 0.5844 |\n",
            "| 29 | 0.5991 |\n",
            "| 30 | 0.5992 |\n",
            "| 31 | 0.5999 |\n",
            "| 32 | 0.6235 |\n",
            "| 33 | 0.6289 |\n",
            "| 34 | 0.636  |\n",
            "| 35 | 0.6431 |\n",
            "| 36 | 0.7387 |\n",
            "| 37 | 0.7401 |\n",
            "| 38 | 0.7977 |\n",
            "| 39 | 0.8147 |\n",
            "| 40 | 0.8376 |\n",
            "| 41 | 0.8536 |\n",
            "| 42 | 0.8589 |\n",
            "| 43 | 0.8681 |\n",
            "| 44 | 0.875  |\n",
            "| 45 | 0.8797 |\n",
            "| 46 | 0.8846 |\n",
            "| 47 | 0.917  |\n",
            "| 48 | 0.9606 |\n",
            "| 49 | 0.9848 |\n",
            "| 50 | 0.9996 |\n",
            "+----+--------+\n"
          ]
        }
      ]
    },
    {
      "cell_type": "code",
      "source": [
        "Dpositiva(lista_ordenada)"
      ],
      "metadata": {
        "colab": {
          "base_uri": "https://localhost:8080/"
        },
        "id": "wZYdtwc3Nz5b",
        "outputId": "6990f1c7-9b72-422c-834f-5c9d6fafb0a8"
      },
      "execution_count": 70,
      "outputs": [
        {
          "output_type": "execute_result",
          "data": {
            "text/plain": [
              "0.09879999999999997"
            ]
          },
          "metadata": {},
          "execution_count": 70
        }
      ]
    },
    {
      "cell_type": "code",
      "source": [
        "Dnegativa(lista_ordenada)"
      ],
      "metadata": {
        "colab": {
          "base_uri": "https://localhost:8080/"
        },
        "id": "566HA2JlN3Ag",
        "outputId": "9eb87dbf-7ae5-4223-b664-c5bab1739159"
      },
      "execution_count": 71,
      "outputs": [
        {
          "output_type": "execute_result",
          "data": {
            "text/plain": [
              "0.11879999999999996"
            ]
          },
          "metadata": {},
          "execution_count": 71
        }
      ]
    },
    {
      "cell_type": "code",
      "source": [
        "Dmedia(Dpositiva,Dnegativa)"
      ],
      "metadata": {
        "colab": {
          "base_uri": "https://localhost:8080/"
        },
        "id": "oyD-jbVSN5_1",
        "outputId": "32c8b2fe-e2dd-48c3-a1e4-a032d6634203"
      },
      "execution_count": 72,
      "outputs": [
        {
          "output_type": "execute_result",
          "data": {
            "text/plain": [
              "0.11879999999999996"
            ]
          },
          "metadata": {},
          "execution_count": 72
        }
      ]
    },
    {
      "cell_type": "code",
      "source": [
        "comparacion(Dmedia,vc)"
      ],
      "metadata": {
        "colab": {
          "base_uri": "https://localhost:8080/"
        },
        "id": "chwgw6SNEZ_n",
        "outputId": "ac6cfcb7-7899-4e9c-adf3-07cc6b6a7f35"
      },
      "execution_count": 73,
      "outputs": [
        {
          "output_type": "stream",
          "name": "stdout",
          "text": [
            "Se acepeta la hipótesis\n"
          ]
        }
      ]
    }
  ]
}