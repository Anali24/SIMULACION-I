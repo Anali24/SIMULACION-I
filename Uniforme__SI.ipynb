{
  "nbformat": 4,
  "nbformat_minor": 0,
  "metadata": {
    "colab": {
      "provenance": [],
      "authorship_tag": "ABX9TyMFBaflkWCrEmCVDHjvC6Dw",
      "include_colab_link": true
    },
    "kernelspec": {
      "name": "python3",
      "display_name": "Python 3"
    },
    "language_info": {
      "name": "python"
    }
  },
  "cells": [
    {
      "cell_type": "markdown",
      "metadata": {
        "id": "view-in-github",
        "colab_type": "text"
      },
      "source": [
        "<a href=\"https://colab.research.google.com/github/Anali24/SIMULACION-I/blob/main/Uniforme__SI.ipynb\" target=\"_parent\"><img src=\"https://colab.research.google.com/assets/colab-badge.svg\" alt=\"Open In Colab\"/></a>"
      ]
    },
    {
      "cell_type": "code",
      "execution_count": null,
      "metadata": {
        "id": "dotm08jIEsz7"
      },
      "outputs": [],
      "source": [
        "import random as rnd\n",
        "import numpy as np\n",
        "import matplotlib.pyplot as plt"
      ]
    },
    {
      "cell_type": "code",
      "source": [
        "def f(a,b,n):\n",
        "  lista =[]\n",
        "  #genero una lista vacia para ver que genera la muestra for i in range(n):\n",
        "  for i in range (n):\n",
        "    U=rnd.random()\n",
        "    #X es el mapeo (2. Devolver x)\n",
        "    X=U*(b-a)+a\n",
        "    lista.append(X)\n",
        "  return lista\n"
      ],
      "metadata": {
        "id": "EDj-WmZCFrH9"
      },
      "execution_count": null,
      "outputs": []
    },
    {
      "cell_type": "code",
      "source": [
        "G = f(10,15,100000)\n",
        "print(G)"
      ],
      "metadata": {
        "id": "Aap5xb9EHbCr"
      },
      "execution_count": null,
      "outputs": []
    },
    {
      "cell_type": "code",
      "source": [
        "media = np.mean(G)\n",
        "print(media)"
      ],
      "metadata": {
        "id": "oHvOhXyLIOrs"
      },
      "execution_count": null,
      "outputs": []
    },
    {
      "cell_type": "code",
      "source": [
        "varianza =np.var(G)\n",
        "print(varianza)"
      ],
      "metadata": {
        "id": "FDCLBlDKIbi2"
      },
      "execution_count": null,
      "outputs": []
    },
    {
      "cell_type": "code",
      "source": [
        "plt.hist(G,bins=100)\n",
        "#densidad"
      ],
      "metadata": {
        "id": "crS4rDKgIkGs"
      },
      "execution_count": null,
      "outputs": []
    },
    {
      "cell_type": "code",
      "source": [
        "plt.plot(G)"
      ],
      "metadata": {
        "id": "ngvEje4sIxem"
      },
      "execution_count": null,
      "outputs": []
    },
    {
      "cell_type": "code",
      "source": [
        "def cdf(G):\n",
        "  n=len(G)\n",
        "  x=np.sort(G)\n",
        "  y=np.arange(0,n)/n\n",
        "  return x,y\n"
      ],
      "metadata": {
        "id": "ts8juPmRI2lZ"
      },
      "execution_count": null,
      "outputs": []
    },
    {
      "cell_type": "code",
      "source": [
        "X,Y =cdf(G)"
      ],
      "metadata": {
        "id": "KzfZD9R5JYWw"
      },
      "execution_count": null,
      "outputs": []
    },
    {
      "cell_type": "code",
      "source": [
        "plt.step(X,Y)\n",
        "plt.axvline(media, color=\"green\")\n",
        "plt.axhline(0.5, color=\"red\")"
      ],
      "metadata": {
        "colab": {
          "base_uri": "https://localhost:8080/",
          "height": 448
        },
        "id": "VmI35NaFJcOJ",
        "outputId": "77efcf4b-69ba-411c-c8e5-6e7b5f81e70b"
      },
      "execution_count": 19,
      "outputs": [
        {
          "output_type": "execute_result",
          "data": {
            "text/plain": [
              "<matplotlib.lines.Line2D at 0x7b98e5adf670>"
            ]
          },
          "metadata": {},
          "execution_count": 19
        },
        {
          "output_type": "display_data",
          "data": {
            "text/plain": [
              "<Figure size 640x480 with 1 Axes>"
            ],
            "image/png": "[encoded data removed]"
          },
          "metadata": {}
        }
      ]
    }
  ]
}