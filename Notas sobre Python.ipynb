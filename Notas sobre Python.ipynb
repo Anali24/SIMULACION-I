{
  "cells": [
    {
      "cell_type": "markdown",
      "metadata": {
        "id": "aTYxdOojE8vp"
      },
      "source": [
        "## Listas"
      ]
    },
    {
      "cell_type": "markdown",
      "metadata": {
        "id": "hs3cX9uzE8vq"
      },
      "source": [
        "Una **lista** es una colección ordenada de objetos, que pueden ser de distintos tipos. Las listas son mutables y se pueden realizar varias operaciones con ellas mediante funciones de Python."
      ]
    },
    {
      "cell_type": "markdown",
      "metadata": {
        "id": "9imiK3YOE8vq"
      },
      "source": [
        "Se pueden definir mediante corchetes [ ], entre los cuales se escriben los objetos separados por comas. Así, son listas:"
      ]
    },
    {
      "cell_type": "code",
      "execution_count": 59,
      "metadata": {
        "id": "p0aD9JorE8vq"
      },
      "outputs": [],
      "source": [
        "l = []\n",
        "\n",
        "m = [1,2,2]\n",
        "\n",
        "lista = [1,2,3,4,5, 'a', 'b', 'c', [1,2], [3, 'c']]"
      ]
    },
    {
      "cell_type": "code",
      "execution_count": 61,
      "metadata": {
        "id": "2IV_Qo0cE8vq",
        "outputId": "cae1294b-59b3-4d46-fd7e-90243b086cca",
        "colab": {
          "base_uri": "https://localhost:8080/"
        }
      },
      "outputs": [
        {
          "output_type": "execute_result",
          "data": {
            "text/plain": [
              "list"
            ]
          },
          "metadata": {},
          "execution_count": 61
        }
      ],
      "source": [
        "type(l)  # La función type() devuelve el tipo de objeto que es el argumento"
      ]
    },
    {
      "cell_type": "code",
      "execution_count": 62,
      "metadata": {
        "id": "E5UiNh8eE8vr",
        "outputId": "495c8da4-a8b7-452c-fc13-74ba973ab15d",
        "colab": {
          "base_uri": "https://localhost:8080/"
        }
      },
      "outputs": [
        {
          "output_type": "execute_result",
          "data": {
            "text/plain": [
              "list"
            ]
          },
          "metadata": {},
          "execution_count": 62
        }
      ],
      "source": [
        "type(m)"
      ]
    },
    {
      "cell_type": "markdown",
      "metadata": {
        "id": "AZu6WcZyE8vr"
      },
      "source": [
        "Las listas son iterables: podemos recorrer sus elementos mediante un bucle:"
      ]
    },
    {
      "cell_type": "code",
      "execution_count": 63,
      "metadata": {
        "id": "T0pen8BqE8vr",
        "outputId": "6322b4c2-3023-4f34-bb46-9b95480b2ee7",
        "colab": {
          "base_uri": "https://localhost:8080/"
        }
      },
      "outputs": [
        {
          "output_type": "stream",
          "name": "stdout",
          "text": [
            "1\n",
            "2\n",
            "3\n",
            "4\n",
            "5\n",
            "a\n",
            "b\n",
            "c\n",
            "[1, 2]\n",
            "[3, 'c']\n"
          ]
        }
      ],
      "source": [
        "for i in lista:\n",
        "    print(i)"
      ]
    },
    {
      "cell_type": "markdown",
      "metadata": {
        "id": "-NiwhFEcE8vs"
      },
      "source": [
        "Se puede acceder a cada elemento de la lista indicando su posición en ella:"
      ]
    },
    {
      "cell_type": "code",
      "execution_count": 64,
      "metadata": {
        "id": "5P6f1XiEE8vs",
        "outputId": "25db9b51-e28f-4919-9e04-d7825fd56476",
        "colab": {
          "base_uri": "https://localhost:8080/"
        }
      },
      "outputs": [
        {
          "output_type": "execute_result",
          "data": {
            "text/plain": [
              "1"
            ]
          },
          "metadata": {},
          "execution_count": 64
        }
      ],
      "source": [
        "lista[0]"
      ]
    },
    {
      "cell_type": "markdown",
      "metadata": {
        "id": "u1gvA31tE8vs"
      },
      "source": [
        "Y se puede reemplazar alguno de sus elementos indicando el nuevo valor:"
      ]
    },
    {
      "cell_type": "code",
      "execution_count": 65,
      "metadata": {
        "id": "0507oqgtE8vs"
      },
      "outputs": [],
      "source": [
        "lista[0] = 100"
      ]
    },
    {
      "cell_type": "code",
      "execution_count": 66,
      "metadata": {
        "id": "dgKJCFr7E8vt",
        "outputId": "cf31f531-236b-4bbe-9421-e040b0de6b70",
        "colab": {
          "base_uri": "https://localhost:8080/"
        }
      },
      "outputs": [
        {
          "output_type": "stream",
          "name": "stdout",
          "text": [
            "[100, 2, 3, 4, 5, 'a', 'b', 'c', [1, 2], [3, 'c']]\n"
          ]
        }
      ],
      "source": [
        "print(lista)"
      ]
    },
    {
      "cell_type": "markdown",
      "metadata": {
        "id": "csRlbAbeE8vt"
      },
      "source": [
        "### Ejercicio:\n",
        "\n",
        "¿Cómo accedemos al elemento 'c' de la lista [3, 'c'] dentro de lista?"
      ]
    },
    {
      "cell_type": "code",
      "source": [
        "lista=[3,'c']\n",
        "print(lista[1])\n",
        "print(lista[0])\n"
      ],
      "metadata": {
        "id": "Dp4lMC_1FFCa",
        "outputId": "4a1473d0-08e9-43b6-adf0-147a9d33778a",
        "colab": {
          "base_uri": "https://localhost:8080/"
        }
      },
      "execution_count": 71,
      "outputs": [
        {
          "output_type": "stream",
          "name": "stdout",
          "text": [
            "c\n",
            "3\n"
          ]
        }
      ]
    },
    {
      "cell_type": "markdown",
      "metadata": {
        "id": "Jqkn8Qp8E8vt"
      },
      "source": [
        "Con el operador **in** podemos comprobar si un determinado **valor** está en la lista: dará True si está y False si no está."
      ]
    },
    {
      "cell_type": "code",
      "execution_count": null,
      "metadata": {
        "id": "SHQu4MYRE8vt"
      },
      "outputs": [],
      "source": [
        "1 in lista"
      ]
    },
    {
      "cell_type": "markdown",
      "metadata": {
        "id": "9vUV5DWDE8vt"
      },
      "source": [
        "Las listas se pueden sumar y multiplicar"
      ]
    },
    {
      "cell_type": "code",
      "execution_count": null,
      "metadata": {
        "id": "Yb_Fb_16E8vt"
      },
      "outputs": [],
      "source": [
        "a = [1, 2, 3, 4, 5]\n",
        "b = [6,7,8,9,10]"
      ]
    },
    {
      "cell_type": "code",
      "execution_count": null,
      "metadata": {
        "id": "N_FQd-qBE8vt"
      },
      "outputs": [],
      "source": [
        "a + b"
      ]
    },
    {
      "cell_type": "code",
      "execution_count": null,
      "metadata": {
        "id": "jTCVZGVrE8vt"
      },
      "outputs": [],
      "source": [
        "2*b        # Observar el resultado"
      ]
    },
    {
      "cell_type": "markdown",
      "metadata": {
        "id": "THo3G-zKE8vt"
      },
      "source": [
        "La función **sum( )** devuelve la suma de los elementos de listas numéricas."
      ]
    },
    {
      "cell_type": "code",
      "execution_count": null,
      "metadata": {
        "id": "UEVfmS0yE8vt"
      },
      "outputs": [],
      "source": [
        "sum(a)"
      ]
    },
    {
      "cell_type": "markdown",
      "metadata": {
        "id": "bsAA35JVE8vt"
      },
      "source": [
        "La función **len( )** devuelve el número de elementos de la lista."
      ]
    },
    {
      "cell_type": "code",
      "execution_count": null,
      "metadata": {
        "id": "g__cQvFQE8vu"
      },
      "outputs": [],
      "source": [
        "len(l)"
      ]
    },
    {
      "cell_type": "markdown",
      "metadata": {
        "id": "lSUsxmsDE8vu"
      },
      "source": [
        "### Ejercicio:"
      ]
    },
    {
      "cell_type": "markdown",
      "metadata": {
        "id": "APQsQX27E8vu"
      },
      "source": [
        "Calcular el promedio de:\n",
        "\n",
        "* a\n",
        "* b\n",
        "* 5a ¿Es igual a 5*(promedio de a)?\n",
        "* a + b ¿Es igual a la suma de los promedios?\n",
        "\n",
        "\n"
      ]
    },
    {
      "cell_type": "code",
      "source": [],
      "metadata": {
        "id": "G9AMa7WdGvsq"
      },
      "execution_count": null,
      "outputs": []
    },
    {
      "cell_type": "markdown",
      "metadata": {
        "id": "VcX7J37iE8vu"
      },
      "source": [
        "También se puede acceder a los elementos de una lista por rangos."
      ]
    },
    {
      "cell_type": "code",
      "execution_count": null,
      "metadata": {
        "id": "BojoHKXbE8vu"
      },
      "outputs": [],
      "source": [
        "a[1:]"
      ]
    },
    {
      "cell_type": "code",
      "execution_count": null,
      "metadata": {
        "id": "Hx2Jw4M4E8vu"
      },
      "outputs": [],
      "source": [
        "a[:2]"
      ]
    },
    {
      "cell_type": "code",
      "execution_count": null,
      "metadata": {
        "id": "YdT5J4IiE8vu"
      },
      "outputs": [],
      "source": [
        "a[3:5]"
      ]
    },
    {
      "cell_type": "code",
      "execution_count": null,
      "metadata": {
        "id": "nihZgQcrE8vu"
      },
      "outputs": [],
      "source": [
        "a[::2]"
      ]
    },
    {
      "cell_type": "markdown",
      "metadata": {
        "id": "pE76T6SeE8vu"
      },
      "source": [
        "La función **append( )** agrega un elemento al final de la lista."
      ]
    },
    {
      "cell_type": "markdown",
      "metadata": {
        "id": "9EDQalmsE8vu"
      },
      "source": [
        "### Ejercicio:\n",
        "\n",
        "1 Generar una lista de 20 números aleatorios.\n",
        "\n",
        "2 Obtener el promedio de los 10 últimos números generados."
      ]
    },
    {
      "cell_type": "code",
      "execution_count": null,
      "metadata": {
        "id": "hLqHBcCyE8vu"
      },
      "outputs": [],
      "source": []
    },
    {
      "cell_type": "code",
      "execution_count": null,
      "metadata": {
        "id": "Rv9ai1XWE8vu"
      },
      "outputs": [],
      "source": []
    },
    {
      "cell_type": "markdown",
      "metadata": {
        "id": "ebOtDf9kE8vu"
      },
      "source": [
        "## Diccionarios"
      ]
    },
    {
      "cell_type": "markdown",
      "metadata": {
        "id": "0yVLRxrvE8vu"
      },
      "source": [
        "Un **diccionario** es una estructura de datos que almacena conjuntos de pares **clave-valor**."
      ]
    },
    {
      "cell_type": "markdown",
      "metadata": {
        "id": "bh2C41YCE8vv"
      },
      "source": [
        "Para definir un diccionario se escribe un listado entre llaves, {}, mediante un sistema de pares clave-valor. Las entredas se separan por comas y la clave se separa del valor mediante dos puntos, :."
      ]
    },
    {
      "cell_type": "code",
      "execution_count": null,
      "metadata": {
        "id": "BticgoefE8vv"
      },
      "outputs": [],
      "source": [
        "diccionario = {'Nombre': 'Isaac', 'Edad':'22', 'Cursos':['Ecuaciones','Simulación','Operaciones']}"
      ]
    },
    {
      "cell_type": "code",
      "execution_count": null,
      "metadata": {
        "id": "7JE1DtfeE8vv"
      },
      "outputs": [],
      "source": [
        "diccionario['Nombre']"
      ]
    },
    {
      "cell_type": "code",
      "execution_count": null,
      "metadata": {
        "id": "iW9I7E4PE8vv"
      },
      "outputs": [],
      "source": [
        "diccionario['Cursos'][1]"
      ]
    },
    {
      "cell_type": "markdown",
      "metadata": {
        "id": "AWWPxIcoE8vv"
      },
      "source": [
        "La función **dict( )** permite crear un diccionario:"
      ]
    },
    {
      "cell_type": "code",
      "execution_count": null,
      "metadata": {
        "id": "u9tnmI10E8vv"
      },
      "outputs": [],
      "source": [
        "d = dict(a=1, b=2, c=3)"
      ]
    },
    {
      "cell_type": "code",
      "execution_count": null,
      "metadata": {
        "id": "qh2JcIzBE8vv"
      },
      "outputs": [],
      "source": [
        "print(d)"
      ]
    },
    {
      "cell_type": "code",
      "execution_count": null,
      "metadata": {
        "id": "ek-UXDlwE8vv"
      },
      "outputs": [],
      "source": [
        "type(d)"
      ]
    },
    {
      "cell_type": "code",
      "execution_count": null,
      "metadata": {
        "id": "rk9t2DUIE8vv"
      },
      "outputs": [],
      "source": [
        "len(d)"
      ]
    },
    {
      "cell_type": "markdown",
      "metadata": {
        "id": "kSVhT377E8vv"
      },
      "source": [
        "Con el operador in podemos comprobar si una determinada **clave** está en el diccionario: dará True si está y False si no está."
      ]
    },
    {
      "cell_type": "code",
      "execution_count": null,
      "metadata": {
        "id": "YXB_MZD_E8vv"
      },
      "outputs": [],
      "source": [
        "'a' in d"
      ]
    },
    {
      "cell_type": "markdown",
      "metadata": {
        "id": "6rz9Nxq7E8vv"
      },
      "source": [
        "Las diccionarios son iterables: podemos recorrer sus elementos mediante un bucle:"
      ]
    },
    {
      "cell_type": "code",
      "execution_count": null,
      "metadata": {
        "id": "KX4XXHVTE8vw"
      },
      "outputs": [],
      "source": [
        "for key in diccionario:\n",
        "    print(key, \":\", diccionario[key])"
      ]
    },
    {
      "cell_type": "markdown",
      "metadata": {
        "id": "ZIfvn_bOE8vw"
      },
      "source": [
        "**items()** devuelve las tuplas clave-valor del diccionario."
      ]
    },
    {
      "cell_type": "code",
      "execution_count": null,
      "metadata": {
        "id": "MvpXsdkpE8vw"
      },
      "outputs": [],
      "source": [
        "diccionario.items()"
      ]
    },
    {
      "cell_type": "markdown",
      "metadata": {
        "id": "wdpKTfs8E8vw"
      },
      "source": [
        "**items()** devuelve una tupla, lo cual permite verificar si un par clave-valor está en el diccionario."
      ]
    },
    {
      "cell_type": "code",
      "execution_count": null,
      "metadata": {
        "id": "QXGfPknpE8vw"
      },
      "outputs": [],
      "source": [
        "('a',1) in d.items()"
      ]
    },
    {
      "cell_type": "markdown",
      "metadata": {
        "id": "NWSTe94UE8vw"
      },
      "source": [
        "**values()** devuelve una lista de los valores del diccionario."
      ]
    },
    {
      "cell_type": "code",
      "execution_count": null,
      "metadata": {
        "id": "5SU3uWFiE8vw"
      },
      "outputs": [],
      "source": [
        "diccionario.values()"
      ]
    },
    {
      "cell_type": "code",
      "execution_count": null,
      "metadata": {
        "id": "pxT9jqh2E8vw"
      },
      "outputs": [],
      "source": []
    }
  ],
  "metadata": {
    "kernelspec": {
      "display_name": "Python 3",
      "language": "python",
      "name": "python3"
    },
    "language_info": {
      "codemirror_mode": {
        "name": "ipython",
        "version": 3
      },
      "file_extension": ".py",
      "mimetype": "text/x-python",
      "name": "python",
      "nbconvert_exporter": "python",
      "pygments_lexer": "ipython3",
      "version": "3.7.3"
    },
    "colab": {
      "provenance": []
    }
  },
  "nbformat": 4,
  "nbformat_minor": 0
}