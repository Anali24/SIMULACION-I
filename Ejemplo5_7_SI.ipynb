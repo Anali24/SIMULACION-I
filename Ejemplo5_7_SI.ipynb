{
  "nbformat": 4,
  "nbformat_minor": 0,
  "metadata": {
    "colab": {
      "provenance": [],
      "authorship_tag": "ABX9TyPCZBqgS+4C+23mV4J0gimq",
      "include_colab_link": true
    },
    "kernelspec": {
      "name": "python3",
      "display_name": "Python 3"
    },
    "language_info": {
      "name": "python"
    }
  },
  "cells": [
    {
      "cell_type": "markdown",
      "metadata": {
        "id": "view-in-github",
        "colab_type": "text"
      },
      "source": [
        "<a href=\"https://colab.research.google.com/github/Anali24/SIMULACION-I/blob/main/Ejemplo5_7_SI.ipynb\" target=\"_parent\"><img src=\"https://colab.research.google.com/assets/colab-badge.svg\" alt=\"Open In Colab\"/></a>"
      ]
    },
    {
      "cell_type": "markdown",
      "source": [
        "***Ejemplo 5.7 Libros Coss Bu***\n",
        "\n",
        "Un vendedor de revistas compra mensualmente una revista el día primero de cada mes. El costo de cada ejemplar es de $1.50.La demanda de esta revista en los primeros 10 días del mes sigue la siguiente distribución de probabilidad:\n",
        "\n"
      ],
      "metadata": {
        "id": "okw2NBrk8joq"
      }
    },
    {
      "cell_type": "markdown",
      "source": [
        "| Demanda |  5   |  6   |  7   |  8   |  9   |  10  |  11  |\n",
        "|---------|------|------|------|------|------|------|------|\n",
        "| Prob.   | 0.05 | 0.05 | 0.10 | 0.15 | 0.25 | 0.25 | 0.15 |\n"
      ],
      "metadata": {
        "id": "JsrMIcWADxOj"
      }
    },
    {
      "cell_type": "markdown",
      "source": [
        "Al final del décimo día, el vendedor puede regresar cualquier cantidad al proveedor, quien se las pagará a $0.90$ el ejemplar, o comprar más a $1.20$ el ejemplar. La demanda en los siguientes 20 días está dada por la siguiente distribución de probabilidad:"
      ],
      "metadata": {
        "id": "lB2EQP5LDwFh"
      }
    },
    {
      "cell_type": "markdown",
      "source": [
        "| Demanda |  4   |  5   |  6   |  7   |  8   |\n",
        "|---------|------|------|------|------|------|\n",
        "| Prob.   | 0.15 | 0.20 | 0.30 | 0.20 | 0.15 |\n"
      ],
      "metadata": {
        "id": "sNQO7S4rQcDM"
      }
    },
    {
      "cell_type": "markdown",
      "source": [
        "Al final del mes, el vendedor puede regresar al proveedor las revistas que le sobren, las cuales se le pagarán a $0.60$ el ejemplar.\n",
        "Finalmente, se asume que después de un mes ya no existe demanda por parte del público, puesto que para ese entonces ya habrá aparecido el muevo numero en la revista\n",
        "Si el precio al público es de $2$ por ejemplar, determine la política óptima de compra."
      ],
      "metadata": {
        "id": "QFEj0wI9D77_"
      }
    },
    {
      "cell_type": "markdown",
      "source": [
        "**Solución y Planteamiento para la simulación:**\n",
        "\n",
        "Dados los ingresos y los costos , queremos maximizar la ganancia, haciendo correctamente el pedido inicial.\n",
        "\n",
        "Así la ganancia esperada para la demanda 1 es:\n",
        "\n",
        "\n",
        "$$ E[G(Q_1)] = \\sum_{d_1} P(d_1) \\cdot G(Q_1, d_1)  $$\n",
        "La ganancia $ G(Q_1, d_1) $ se calcula como:\n",
        "\n",
        "$$\n",
        "G(Q_1, d_1)=\n",
        "\\begin{cases}\n",
        "(Q_1 - d_1) \\cdot 0.90 & \\text{si } Q_1 > d_1 \\\\\n",
        "(d_1 - Q_1) \\cdot (-1.20) & \\text{si } d_1 > Q_1\n",
        "\\end{cases}\n",
        "$$"
      ],
      "metadata": {
        "id": "xFRY5tdfI7jK"
      }
    },
    {
      "cell_type": "markdown",
      "source": [
        "Ahora la Ganancia esperada en los siguientes 20 días.\n",
        "\n",
        "Para el inventario restante después del décimo día $ I_1 = Q_1 - d_1 $:\n",
        "\n",
        "$$\n",
        "E[G_2(I_1)] = \\sum_{d_2} P(d_2) \\cdot G_2(I_1, d_2)\n",
        "$$\n",
        "donde $ d_2 $ es la demanda en los siguientes 20 días.\n",
        "\n",
        "La ganancia $ G_2(I_1, d_2) $ se calcula como:\n",
        "\n",
        "$$\n",
        "G_2(I_1, d_2) =\n",
        "\\begin{cases}\n",
        "(I_1 - d_2) \\cdot 0.60 & \\text{si } I_1 > d_2 \\\\\n",
        "(d_2 - I_1) \\cdot 2.00 - I_1 \\cdot 1.50 & \\text{si } d_2 > I_1\n",
        "\\end{cases}\n",
        "$$"
      ],
      "metadata": {
        "id": "PGqvR1jhOl59"
      }
    },
    {
      "cell_type": "markdown",
      "source": [
        "Optimización\n",
        "Calculamos la ganancia esperada total:\n",
        "\n",
        "$$\n",
        "E[G_{\\text{total}}(Q_1)] = E[G(Q_1)] + E[G_2(I_1)]\n",
        "$$\n",
        "\n",
        "Maximizamos $ E[G_{\\text{total}}(Q_1)] $ respecto a $ Q_1 $.\n",
        "\n",
        "Vamos a hacer los cálculos para cada $ Q_1 $:\n",
        "\n",
        "Calcular $ E[G(Q_1)] $ para $ Q_1 = 5, 6, 7, 8, 9, 10, 11 $.\n",
        "\n",
        "Calcular $ E[G_2(I_1)] $ para cada inventario restante $ I_1 $.\n"
      ],
      "metadata": {
        "id": "BQrvG8-KO2r6"
      }
    },
    {
      "cell_type": "markdown",
      "source": [
        "Usaremos **Monte Carlo** para estimar la ganancia esperada para cada cantidad inicial de revistas compradas (Q1) y determina cuál es la mejor estrategia de compra inicial basada en la ganancia esperada. La cantidad óptima de compra inicial se determina como aquella que maximiza la ganancia esperada.\n",
        "\n",
        "Monte Carlo es ideal cuando hay elementos de incertidumbre en el proceso de toma de decisiones, como las demandas de los clientes que varían según probabilidades específicas en períodos de tiempo diferentes (primeros 10 días y siguientes 20 días en este caso)."
      ],
      "metadata": {
        "id": "pLTCM8bNDx4k"
      }
    },
    {
      "cell_type": "markdown",
      "source": [
        "***Simulación:***"
      ],
      "metadata": {
        "id": "M_hi-CX1Qgvh"
      }
    },
    {
      "cell_type": "code",
      "source": [
        "import numpy as np\n",
        "\n",
        "# Definición de las distribuciones de probabilidad\n",
        "prob_demanda_10_dias = [0.05, 0.05, 0.10, 0.15, 0.25, 0.25, 0.15]\n",
        "demanda_10_dias = [5, 6, 7, 8, 9, 10, 11]\n",
        "\n",
        "prob_demanda_20_dias = [0.15, 0.20, 0.30, 0.20, 0.15]\n",
        "demanda_20_dias = [4, 5, 6, 7, 8]\n"
      ],
      "metadata": {
        "id": "6UDeI1l78kow"
      },
      "execution_count": 57,
      "outputs": []
    },
    {
      "cell_type": "code",
      "source": [
        "# Parametros de costos e ingresos\n",
        "costo_compra_inicial = 1.50\n",
        "precio_venta = 2.00\n",
        "costo_devolucion_10_dias = 0.90\n",
        "costo_compra_adicional_10_dias = 1.20\n",
        "costo_devolucion_final = 0.60\n"
      ],
      "metadata": {
        "id": "7oGjexbOGLHN"
      },
      "execution_count": 58,
      "outputs": []
    },
    {
      "cell_type": "code",
      "source": [
        "# Función para calcular la ganancia esperada\n",
        "def calcular_ganancia(Q1):\n",
        "    ganancia_total = 0\n",
        "\n",
        "    for _ in range(num_simulaciones):\n",
        "        # Simular demanda en los primeros 10 días\n",
        "        demanda_10 = np.random.choice(demanda_10_dias, p=prob_10_dias)\n",
        "\n",
        "        # Ajustar inventario al décimo día\n",
        "        if Q1 > demanda_10:\n",
        "            # Devolución de exceso\n",
        "            exceso = Q1 - demanda_10\n",
        "            ganancia = demanda_10 * precio_venta - Q1 * costo_compra_inicial + exceso * costo_devolucion_10_dias\n",
        "            inventario_restante = 0\n",
        "        else:\n",
        "            # Compra adicional\n",
        "            deficit = demanda_10 - Q1\n",
        "            ganancia = Q1 * precio_venta - Q1 * costo_compra_inicial - deficit * costo_compra_adicional_10_dias\n",
        "            inventario_restante = deficit\n",
        "\n",
        "        # Simular demanda en los siguientes 20 días\n",
        "        demanda_20 = np.random.choice(demanda_20_dias, p=prob_20_dias)\n",
        "\n",
        "        if inventario_restante > demanda_20:\n",
        "            # Devolución de exceso al final del mes\n",
        "            exceso_final = inventario_restante - demanda_20\n",
        "            ganancia += demanda_20 * precio_venta + exceso_final * costo_devolucion_final\n",
        "        else:\n",
        "            ganancia += inventario_restante * precio_venta\n",
        "\n",
        "        ganancia_total += ganancia\n",
        "\n",
        "    ganancia_promedio = ganancia_total / num_simulaciones\n",
        "    return ganancia_promedio\n"
      ],
      "metadata": {
        "id": "Xe55WNliGmWL"
      },
      "execution_count": 59,
      "outputs": []
    },
    {
      "cell_type": "code",
      "source": [
        "# Encontrar la cantidad óptima de compra inicial\n",
        "resultados = []\n",
        "for Q1 in range(5, 12):\n",
        "    ganancia_esperada = calcular_ganancia(Q1)\n",
        "    resultados.append((Q1, ganancia_esperada))\n",
        "\n",
        "# Imprimir los resultados\n",
        "for Q1, ganancia in resultados:\n",
        "    print(f\"Compra inicial: {Q1} revistas - Ganancia esperada: ${ganancia:.2f}\")\n",
        "\n",
        "# Determinar la cantidad óptima de compra\n",
        "Q_optimo = max(resultados, key=lambda x: x[1])[0]\n",
        "print(f\"\\nCantidad óptima de compra inicial: {Q_optimo} revistas\")\n"
      ],
      "metadata": {
        "colab": {
          "base_uri": "https://localhost:8080/"
        },
        "id": "vQrqP3hMGnOI",
        "outputId": "6960a8ff-009f-445e-e0c4-9d67ca3c6258"
      },
      "execution_count": 60,
      "outputs": [
        {
          "output_type": "stream",
          "name": "stdout",
          "text": [
            "Compra inicial: 5 revistas - Ganancia esperada: $5.42\n",
            "Compra inicial: 6 revistas - Ganancia esperada: $5.25\n",
            "Compra inicial: 7 revistas - Ganancia esperada: $4.95\n",
            "Compra inicial: 8 revistas - Ganancia esperada: $4.58\n",
            "Compra inicial: 9 revistas - Ganancia esperada: $4.17\n",
            "Compra inicial: 10 revistas - Ganancia esperada: $3.69\n",
            "Compra inicial: 11 revistas - Ganancia esperada: $3.14\n",
            "\n",
            "Cantidad óptima de compra inicial: 5 revistas\n"
          ]
        }
      ]
    }
  ]
}