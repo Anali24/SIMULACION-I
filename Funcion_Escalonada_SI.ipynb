{
  "nbformat": 4,
  "nbformat_minor": 0,
  "metadata": {
    "colab": {
      "provenance": [],
      "authorship_tag": "ABX9TyNGy//VVHJqv3oH6lgRxiJU",
      "include_colab_link": true
    },
    "kernelspec": {
      "name": "python3",
      "display_name": "Python 3"
    },
    "language_info": {
      "name": "python"
    }
  },
  "cells": [
    {
      "cell_type": "markdown",
      "metadata": {
        "id": "view-in-github",
        "colab_type": "text"
      },
      "source": [
        "<a href=\"https://colab.research.google.com/github/Anali24/SIMULACION-I/blob/main/Funcion_Escalonada_SI.ipynb\" target=\"_parent\"><img src=\"https://colab.research.google.com/assets/colab-badge.svg\" alt=\"Open In Colab\"/></a>"
      ]
    },
    {
      "cell_type": "markdown",
      "source": [
        "# Algoritmo para generar esta distrubución (escalonada)  \n",
        "\n",
        "30/04/24\n",
        "\n",
        "Valdez Garcia Karla Anali"
      ],
      "metadata": {
        "id": "7QhqI09Q65T1"
      }
    },
    {
      "cell_type": "markdown",
      "source": [
        "Para una función no decreciente F sobre R, la inversa generalizada de F, es la función definida por:\n",
        "\n",
        "\n",
        "F^-1(u)=inf{x: F(x) >= u}\n",
        "\n",
        "donde si su distribución está entre 0 y 1, entonces la variable aleatoria F^-1(u) tiene distribución F\n",
        "\n",
        "En este caso, se ejemplifica una función de tipo Bernoulli por lo que su inversa generalizada seguirá una distribución de Bernoulli"
      ],
      "metadata": {
        "id": "gmJipCCu7EvQ"
      }
    },
    {
      "cell_type": "code",
      "source": [
        "import random as rnd\n",
        "import numpy as np\n",
        "import matplotlib.pyplot as plt\n",
        "import math as mt"
      ],
      "metadata": {
        "id": "TTUlF-Y17PDb"
      },
      "execution_count": 34,
      "outputs": []
    },
    {
      "cell_type": "code",
      "source": [
        "def f():\n",
        "    muestra = []\n",
        "    for _ in range(10):\n",
        "        U = rnd.random()\n",
        "        if U <= 0.15:\n",
        "            muestra.append(1)\n",
        "        elif 0.15 < U <= 0.20:\n",
        "            muestra.append(2)\n",
        "        elif 0.20 < U <=0.55:\n",
        "            muestra.append(3)\n",
        "        else:\n",
        "          muestra.append(4)\n",
        "\n",
        "\n",
        "    return muestra\n",
        "\n",
        "muestra_distribucion= f()"
      ],
      "metadata": {
        "id": "UPC7QvJ77SXw"
      },
      "execution_count": 35,
      "outputs": []
    },
    {
      "cell_type": "code",
      "source": [
        "G = f()\n",
        "print(G)"
      ],
      "metadata": {
        "colab": {
          "base_uri": "https://localhost:8080/"
        },
        "id": "F-q1BOTV75br",
        "outputId": "fc3f81f7-04c4-44c9-e070-f83664bce17e"
      },
      "execution_count": 36,
      "outputs": [
        {
          "output_type": "stream",
          "name": "stdout",
          "text": [
            "[3, 1, 3, 3, 2, 3, 3, 4, 4, 3]\n"
          ]
        }
      ]
    },
    {
      "cell_type": "code",
      "source": [
        "media = np.mean(G)\n",
        "print(media)"
      ],
      "metadata": {
        "colab": {
          "base_uri": "https://localhost:8080/"
        },
        "id": "Q7jcVJk27502",
        "outputId": "61de88fd-68de-4bf3-a6b1-8292811a5b1d"
      },
      "execution_count": 37,
      "outputs": [
        {
          "output_type": "stream",
          "name": "stdout",
          "text": [
            "2.9\n"
          ]
        }
      ]
    },
    {
      "cell_type": "code",
      "source": [
        "varianza =np.var(G)\n",
        "print(varianza)"
      ],
      "metadata": {
        "colab": {
          "base_uri": "https://localhost:8080/"
        },
        "id": "VQ_6LID877HR",
        "outputId": "053c6cf5-bd2f-4f3c-cb7f-4c4736a9a871"
      },
      "execution_count": 38,
      "outputs": [
        {
          "output_type": "stream",
          "name": "stdout",
          "text": [
            "0.69\n"
          ]
        }
      ]
    },
    {
      "cell_type": "markdown",
      "source": [
        "Histograma:"
      ],
      "metadata": {
        "id": "tK9AtkVg8irm"
      }
    },
    {
      "cell_type": "code",
      "source": [
        "plt.hist(G,bins=50) #HISTOGRAMA\n",
        "#densidad"
      ],
      "metadata": {
        "colab": {
          "base_uri": "https://localhost:8080/",
          "height": 594
        },
        "id": "IMTghUk078nO",
        "outputId": "233e02c4-0ca9-4130-fb60-aa6da66bbc31"
      },
      "execution_count": 39,
      "outputs": [
        {
          "output_type": "execute_result",
          "data": {
            "text/plain": [
              "(array([1., 0., 0., 0., 0., 0., 0., 0., 0., 0., 0., 0., 0., 0., 0., 0., 1.,\n",
              "        0., 0., 0., 0., 0., 0., 0., 0., 0., 0., 0., 0., 0., 0., 0., 0., 6.,\n",
              "        0., 0., 0., 0., 0., 0., 0., 0., 0., 0., 0., 0., 0., 0., 0., 2.]),\n",
              " array([1.  , 1.06, 1.12, 1.18, 1.24, 1.3 , 1.36, 1.42, 1.48, 1.54, 1.6 ,\n",
              "        1.66, 1.72, 1.78, 1.84, 1.9 , 1.96, 2.02, 2.08, 2.14, 2.2 , 2.26,\n",
              "        2.32, 2.38, 2.44, 2.5 , 2.56, 2.62, 2.68, 2.74, 2.8 , 2.86, 2.92,\n",
              "        2.98, 3.04, 3.1 , 3.16, 3.22, 3.28, 3.34, 3.4 , 3.46, 3.52, 3.58,\n",
              "        3.64, 3.7 , 3.76, 3.82, 3.88, 3.94, 4.  ]),\n",
              " <BarContainer object of 50 artists>)"
            ]
          },
          "metadata": {},
          "execution_count": 39
        },
        {
          "output_type": "display_data",
          "data": {
            "text/plain": [
              "<Figure size 640x480 with 1 Axes>"
            ],
            "image/png": "[encoded data removed]"
          },
          "metadata": {}
        }
      ]
    },
    {
      "cell_type": "code",
      "source": [
        "plt.plot(G) #VALORES"
      ],
      "metadata": {
        "colab": {
          "base_uri": "https://localhost:8080/",
          "height": 448
        },
        "id": "9xhPCBmX793k",
        "outputId": "b08f424d-6a34-4c5b-843a-0572f2f27d95"
      },
      "execution_count": 40,
      "outputs": [
        {
          "output_type": "execute_result",
          "data": {
            "text/plain": [
              "[<matplotlib.lines.Line2D at 0x7c59353b8dc0>]"
            ]
          },
          "metadata": {},
          "execution_count": 40
        },
        {
          "output_type": "display_data",
          "data": {
            "text/plain": [
              "<Figure size 640x480 with 1 Axes>"
            ],
            "image/png": "[encoded data removed]"
          },
          "metadata": {}
        }
      ]
    },
    {
      "cell_type": "markdown",
      "source": [
        "Definimos una función donde:\n",
        "\n",
        " CDF calcula la función de distribución acumulativa y con sort ordenamos los elementos de G en orden ascendente utilizando la función"
      ],
      "metadata": {
        "id": "i-rt0m-78pmP"
      }
    },
    {
      "cell_type": "code",
      "source": [
        "def cdf(G):\n",
        "  n=len(G)\n",
        "  x=np.sort(G)\n",
        "  y=np.arange(0,n)/n\n",
        "  return x,y"
      ],
      "metadata": {
        "id": "qPoL9_sQ7_O4"
      },
      "execution_count": 41,
      "outputs": []
    },
    {
      "cell_type": "code",
      "source": [
        "X,Y =cdf(G)"
      ],
      "metadata": {
        "id": "tVvkTHcr8ApT"
      },
      "execution_count": 42,
      "outputs": []
    },
    {
      "cell_type": "markdown",
      "source": [
        "Gráfica de Distribución"
      ],
      "metadata": {
        "id": "z9CeJb529Mua"
      }
    },
    {
      "cell_type": "code",
      "source": [
        "plt.step(X,Y)\n",
        "plt.axvline(media, color=\"green\")\n",
        "plt.axhline(0.5, color=\"red\")"
      ],
      "metadata": {
        "colab": {
          "base_uri": "https://localhost:8080/",
          "height": 448
        },
        "id": "wl783lIQ8B59",
        "outputId": "28c60358-3ef6-4ce9-9ac2-3529eba88c41"
      },
      "execution_count": 43,
      "outputs": [
        {
          "output_type": "execute_result",
          "data": {
            "text/plain": [
              "<matplotlib.lines.Line2D at 0x7c59376c9960>"
            ]
          },
          "metadata": {},
          "execution_count": 43
        },
        {
          "output_type": "display_data",
          "data": {
            "text/plain": [
              "<Figure size 640x480 with 1 Axes>"
            ],
            "image/png": "[encoded data removed]"
          },
          "metadata": {}
        }
      ]
    }
  ]
}